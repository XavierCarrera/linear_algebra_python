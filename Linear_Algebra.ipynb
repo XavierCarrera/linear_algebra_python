{
  "nbformat": 4,
  "nbformat_minor": 0,
  "metadata": {
    "colab": {
      "name": "Linear_Algebra.ipynb",
      "provenance": [],
      "authorship_tag": "ABX9TyNYCYaFWJYUh+xyhES0/WgM",
      "include_colab_link": true
    },
    "kernelspec": {
      "name": "python3",
      "display_name": "Python 3"
    }
  },
  "cells": [
    {
      "cell_type": "markdown",
      "metadata": {
        "id": "view-in-github",
        "colab_type": "text"
      },
      "source": [
        "<a href=\"https://colab.research.google.com/github/XavierCarrera/linear_algebra_python/blob/master/Linear_Algebra.ipynb\" target=\"_parent\"><img src=\"https://colab.research.google.com/assets/colab-badge.svg\" alt=\"Open In Colab\"/></a>"
      ]
    },
    {
      "cell_type": "code",
      "metadata": {
        "id": "dNWOFmL5FMtA",
        "colab_type": "code",
        "colab": {}
      },
      "source": [
        "import numpy as np\n",
        "import matplotlib.pyplot as plt\n",
        "import seaborn as sns\n",
        "\n",
        "%matplotlib inline"
      ],
      "execution_count": 6,
      "outputs": []
    },
    {
      "cell_type": "code",
      "metadata": {
        "id": "s6E2uaQoESCl",
        "colab_type": "code",
        "colab": {
          "base_uri": "https://localhost:8080/",
          "height": 34
        },
        "outputId": "c9e10739-1f46-40a6-901e-becb179722c6"
      },
      "source": [
        "escalar = 5.679\n",
        "escalar"
      ],
      "execution_count": 3,
      "outputs": [
        {
          "output_type": "execute_result",
          "data": {
            "text/plain": [
              "5.679"
            ]
          },
          "metadata": {
            "tags": []
          },
          "execution_count": 3
        }
      ]
    },
    {
      "cell_type": "code",
      "metadata": {
        "id": "u2u_qnN6EcBI",
        "colab_type": "code",
        "colab": {
          "base_uri": "https://localhost:8080/",
          "height": 34
        },
        "outputId": "e5bdfcf7-a1e1-431f-ea27-2c0f5f00d4e0"
      },
      "source": [
        "vector = np.array([1,2,3])\n",
        "print(vector)"
      ],
      "execution_count": 4,
      "outputs": [
        {
          "output_type": "stream",
          "text": [
            "[1 2 3]\n"
          ],
          "name": "stdout"
        }
      ]
    },
    {
      "cell_type": "code",
      "metadata": {
        "id": "7ACHgwdWFVqO",
        "colab_type": "code",
        "colab": {
          "base_uri": "https://localhost:8080/",
          "height": 51
        },
        "outputId": "a26984ed-c094-4f28-e002-05eb61cc3f1b"
      },
      "source": [
        "matrix = np.array([[1,2],[3,4]])\n",
        "matrix"
      ],
      "execution_count": 5,
      "outputs": [
        {
          "output_type": "execute_result",
          "data": {
            "text/plain": [
              "array([[1, 2],\n",
              "       [3, 4]])"
            ]
          },
          "metadata": {
            "tags": []
          },
          "execution_count": 5
        }
      ]
    },
    {
      "cell_type": "code",
      "metadata": {
        "id": "nbyQ9PgGFjDu",
        "colab_type": "code",
        "colab": {}
      },
      "source": [
        "tensor = np.array(([\n",
        "        [[1,2,3],[4,5,6],[6,7,8]],\n",
        "        [[11,12,13],[14,15,16],[17,18,19]],\n",
        "        [[21,22,23],[24,25,26],[27,28,29]],\n",
        "        ]))"
      ],
      "execution_count": 6,
      "outputs": []
    },
    {
      "cell_type": "code",
      "metadata": {
        "id": "kYyUtDblGHp9",
        "colab_type": "code",
        "colab": {}
      },
      "source": [
        "%matplotlib inline"
      ],
      "execution_count": 38,
      "outputs": []
    },
    {
      "cell_type": "code",
      "metadata": {
        "id": "-nv-S6M_Gau7",
        "colab_type": "code",
        "colab": {
          "base_uri": "https://localhost:8080/",
          "height": 269
        },
        "outputId": "341aa399-9b51-4c16-8287-abeea08f0e76"
      },
      "source": [
        "plt.imshow(tensor, interpolation='nearest')\n",
        "plt.show()"
      ],
      "execution_count": 8,
      "outputs": [
        {
          "output_type": "display_data",
          "data": {
            "image/png": "[encoded data removed]",
            "text/plain": [
              "<Figure size 432x288 with 1 Axes>"
            ]
          },
          "metadata": {
            "tags": [],
            "needs_background": "light"
          }
        }
      ]
    },
    {
      "cell_type": "markdown",
      "metadata": {
        "id": "DN41LcBltWrl",
        "colab_type": "text"
      },
      "source": [
        "# Vectors, matrixes and tensors"
      ]
    },
    {
      "cell_type": "code",
      "metadata": {
        "id": "TBNG_FaXGnwy",
        "colab_type": "code",
        "colab": {
          "base_uri": "https://localhost:8080/",
          "height": 34
        },
        "outputId": "4b016655-8cf3-426e-c45d-7f88a359ceaf"
      },
      "source": [
        "vector.shape"
      ],
      "execution_count": 12,
      "outputs": [
        {
          "output_type": "execute_result",
          "data": {
            "text/plain": [
              "(3,)"
            ]
          },
          "metadata": {
            "tags": []
          },
          "execution_count": 12
        }
      ]
    },
    {
      "cell_type": "code",
      "metadata": {
        "id": "qriHEoDssTg0",
        "colab_type": "code",
        "colab": {
          "base_uri": "https://localhost:8080/",
          "height": 34
        },
        "outputId": "b0dd9daa-a56e-4176-80c0-89150ca49eef"
      },
      "source": [
        "matrix.shape"
      ],
      "execution_count": 13,
      "outputs": [
        {
          "output_type": "execute_result",
          "data": {
            "text/plain": [
              "(2, 2)"
            ]
          },
          "metadata": {
            "tags": []
          },
          "execution_count": 13
        }
      ]
    },
    {
      "cell_type": "code",
      "metadata": {
        "id": "HbeVqCiTsqDP",
        "colab_type": "code",
        "colab": {
          "base_uri": "https://localhost:8080/",
          "height": 34
        },
        "outputId": "82e2dac1-c6b6-4224-af32-2effc92f6ca7"
      },
      "source": [
        "tensor.shape"
      ],
      "execution_count": 14,
      "outputs": [
        {
          "output_type": "execute_result",
          "data": {
            "text/plain": [
              "(3, 3, 3)"
            ]
          },
          "metadata": {
            "tags": []
          },
          "execution_count": 14
        }
      ]
    },
    {
      "cell_type": "code",
      "metadata": {
        "id": "HMLBMs0Qs1QC",
        "colab_type": "code",
        "colab": {
          "base_uri": "https://localhost:8080/",
          "height": 34
        },
        "outputId": "f38ef588-1ce2-4b4e-9284-50b71d71b38d"
      },
      "source": [
        "tensor.size"
      ],
      "execution_count": 15,
      "outputs": [
        {
          "output_type": "execute_result",
          "data": {
            "text/plain": [
              "27"
            ]
          },
          "metadata": {
            "tags": []
          },
          "execution_count": 15
        }
      ]
    },
    {
      "cell_type": "markdown",
      "metadata": {
        "id": "PbFVI6c0tdGh",
        "colab_type": "text"
      },
      "source": [
        "# Transposition and Sum"
      ]
    },
    {
      "cell_type": "code",
      "metadata": {
        "id": "6pPwuRT_tVa9",
        "colab_type": "code",
        "colab": {
          "base_uri": "https://localhost:8080/",
          "height": 34
        },
        "outputId": "77aff65d-c9ed-42ee-dcb3-3449df8ddb01"
      },
      "source": [
        "vector_t = vector.T\n",
        "vector_t"
      ],
      "execution_count": 16,
      "outputs": [
        {
          "output_type": "execute_result",
          "data": {
            "text/plain": [
              "array([1, 2, 3])"
            ]
          },
          "metadata": {
            "tags": []
          },
          "execution_count": 16
        }
      ]
    },
    {
      "cell_type": "code",
      "metadata": {
        "id": "Dj5L6VdYtyE3",
        "colab_type": "code",
        "colab": {
          "base_uri": "https://localhost:8080/",
          "height": 51
        },
        "outputId": "f18d6970-3c0d-4703-e69c-2ccd4d104d0a"
      },
      "source": [
        "matrix_t = matrix.T\n",
        "matrix_t"
      ],
      "execution_count": 17,
      "outputs": [
        {
          "output_type": "execute_result",
          "data": {
            "text/plain": [
              "array([[1, 3],\n",
              "       [2, 4]])"
            ]
          },
          "metadata": {
            "tags": []
          },
          "execution_count": 17
        }
      ]
    },
    {
      "cell_type": "code",
      "metadata": {
        "id": "LHTVH0kqt4rv",
        "colab_type": "code",
        "colab": {
          "base_uri": "https://localhost:8080/",
          "height": 204
        },
        "outputId": "c6ef51de-b03d-4e74-d555-cff6cf06c89f"
      },
      "source": [
        "tensor_t = tensor.T\n",
        "tensor_t"
      ],
      "execution_count": 18,
      "outputs": [
        {
          "output_type": "execute_result",
          "data": {
            "text/plain": [
              "array([[[ 1, 11, 21],\n",
              "        [ 4, 14, 24],\n",
              "        [ 6, 17, 27]],\n",
              "\n",
              "       [[ 2, 12, 22],\n",
              "        [ 5, 15, 25],\n",
              "        [ 7, 18, 28]],\n",
              "\n",
              "       [[ 3, 13, 23],\n",
              "        [ 6, 16, 26],\n",
              "        [ 8, 19, 29]]])"
            ]
          },
          "metadata": {
            "tags": []
          },
          "execution_count": 18
        }
      ]
    },
    {
      "cell_type": "code",
      "metadata": {
        "id": "WyOB8BTGuGG4",
        "colab_type": "code",
        "colab": {
          "base_uri": "https://localhost:8080/",
          "height": 204
        },
        "outputId": "5511aa78-334b-48f8-a040-5aad69011a93"
      },
      "source": [
        "tensor"
      ],
      "execution_count": 19,
      "outputs": [
        {
          "output_type": "execute_result",
          "data": {
            "text/plain": [
              "array([[[ 1,  2,  3],\n",
              "        [ 4,  5,  6],\n",
              "        [ 6,  7,  8]],\n",
              "\n",
              "       [[11, 12, 13],\n",
              "        [14, 15, 16],\n",
              "        [17, 18, 19]],\n",
              "\n",
              "       [[21, 22, 23],\n",
              "        [24, 25, 26],\n",
              "        [27, 28, 29]]])"
            ]
          },
          "metadata": {
            "tags": []
          },
          "execution_count": 19
        }
      ]
    },
    {
      "cell_type": "code",
      "metadata": {
        "id": "b8EjD7JQuKM5",
        "colab_type": "code",
        "colab": {}
      },
      "source": [
        "a = matrix\n",
        "b = matrix_t"
      ],
      "execution_count": 21,
      "outputs": []
    },
    {
      "cell_type": "code",
      "metadata": {
        "id": "BFXURpviu15N",
        "colab_type": "code",
        "colab": {
          "base_uri": "https://localhost:8080/",
          "height": 51
        },
        "outputId": "344cda1e-1a66-44cf-b8e8-dfe7be20e13a"
      },
      "source": [
        "c = a + b\n",
        "c"
      ],
      "execution_count": 22,
      "outputs": [
        {
          "output_type": "execute_result",
          "data": {
            "text/plain": [
              "array([[2, 5],\n",
              "       [5, 8]])"
            ]
          },
          "metadata": {
            "tags": []
          },
          "execution_count": 22
        }
      ]
    },
    {
      "cell_type": "code",
      "metadata": {
        "id": "rTUOy04jvVfw",
        "colab_type": "code",
        "colab": {
          "base_uri": "https://localhost:8080/",
          "height": 51
        },
        "outputId": "a0a294fa-bb81-4d96-b39a-bd4a049f537c"
      },
      "source": [
        "D = matrix + escalar\n",
        "D"
      ],
      "execution_count": 23,
      "outputs": [
        {
          "output_type": "execute_result",
          "data": {
            "text/plain": [
              "array([[6.679, 7.679],\n",
              "       [8.679, 9.679]])"
            ]
          },
          "metadata": {
            "tags": []
          },
          "execution_count": 23
        }
      ]
    },
    {
      "cell_type": "code",
      "metadata": {
        "id": "gafg8ttZvcIG",
        "colab_type": "code",
        "colab": {}
      },
      "source": [
        "escalar = 5.679\n",
        "vector = np.array([2,3])\n",
        "matrix = np.array([[1,2],[3,4],[5,6]])"
      ],
      "execution_count": 29,
      "outputs": []
    },
    {
      "cell_type": "markdown",
      "metadata": {
        "id": "pLup_iqpwnSn",
        "colab_type": "text"
      },
      "source": [
        "\n",
        "\n",
        "# Operation with Matrixes\n",
        "\n"
      ]
    },
    {
      "cell_type": "code",
      "metadata": {
        "id": "wlKrPPQfv9sX",
        "colab_type": "code",
        "colab": {}
      },
      "source": [
        "A = matrix * vector"
      ],
      "execution_count": 30,
      "outputs": []
    },
    {
      "cell_type": "code",
      "metadata": {
        "id": "PwrKVocuxP_D",
        "colab_type": "code",
        "colab": {}
      },
      "source": [
        "B = matrix.dot(vector)"
      ],
      "execution_count": 31,
      "outputs": []
    },
    {
      "cell_type": "code",
      "metadata": {
        "id": "TwtZ9xevxe6s",
        "colab_type": "code",
        "colab": {
          "base_uri": "https://localhost:8080/",
          "height": 68
        },
        "outputId": "ffe6f14d-d76b-46ef-bf42-3a5e6c857335"
      },
      "source": [
        "A"
      ],
      "execution_count": 32,
      "outputs": [
        {
          "output_type": "execute_result",
          "data": {
            "text/plain": [
              "array([[ 2,  6],\n",
              "       [ 6, 12],\n",
              "       [10, 18]])"
            ]
          },
          "metadata": {
            "tags": []
          },
          "execution_count": 32
        }
      ]
    },
    {
      "cell_type": "code",
      "metadata": {
        "id": "az1q_agUxhRM",
        "colab_type": "code",
        "colab": {
          "base_uri": "https://localhost:8080/",
          "height": 34
        },
        "outputId": "93321585-6335-4fae-e492-060c31aa573b"
      },
      "source": [
        "B"
      ],
      "execution_count": 33,
      "outputs": [
        {
          "output_type": "execute_result",
          "data": {
            "text/plain": [
              "array([ 8, 18, 28])"
            ]
          },
          "metadata": {
            "tags": []
          },
          "execution_count": 33
        }
      ]
    },
    {
      "cell_type": "code",
      "metadata": {
        "id": "F3fuAuEHxh69",
        "colab_type": "code",
        "colab": {
          "base_uri": "https://localhost:8080/",
          "height": 163
        },
        "outputId": "27aa85d1-f726-40ca-d81c-13221ac4b434"
      },
      "source": [
        "C = A.dot(B)"
      ],
      "execution_count": 35,
      "outputs": [
        {
          "output_type": "error",
          "ename": "ValueError",
          "evalue": "ignored",
          "traceback": [
            "\u001b[0;31m---------------------------------------------------------------------------\u001b[0m",
            "\u001b[0;31mValueError\u001b[0m                                Traceback (most recent call last)",
            "\u001b[0;32m<ipython-input-35-b5190dc2cf98>\u001b[0m in \u001b[0;36m<module>\u001b[0;34m()\u001b[0m\n\u001b[0;32m----> 1\u001b[0;31m \u001b[0mC\u001b[0m \u001b[0;34m=\u001b[0m \u001b[0mA\u001b[0m\u001b[0;34m.\u001b[0m\u001b[0mdot\u001b[0m\u001b[0;34m(\u001b[0m\u001b[0mB\u001b[0m\u001b[0;34m)\u001b[0m\u001b[0;34m\u001b[0m\u001b[0;34m\u001b[0m\u001b[0m\n\u001b[0m",
            "\u001b[0;31mValueError\u001b[0m: shapes (3,2) and (3,) not aligned: 2 (dim 1) != 3 (dim 0)"
          ]
        }
      ]
    },
    {
      "cell_type": "code",
      "metadata": {
        "id": "JYFEAaQlzQU2",
        "colab_type": "code",
        "colab": {}
      },
      "source": [
        "D = B.dot(A)"
      ],
      "execution_count": 36,
      "outputs": []
    },
    {
      "cell_type": "code",
      "metadata": {
        "id": "8fs5_xFJ0IKu",
        "colab_type": "code",
        "colab": {}
      },
      "source": [
        "A = np.array([[1,2,3],[4,5,6],[7,8,9],[10,11,12]])"
      ],
      "execution_count": 41,
      "outputs": []
    },
    {
      "cell_type": "code",
      "metadata": {
        "id": "1KAlnq110_6V",
        "colab_type": "code",
        "colab": {}
      },
      "source": [
        "B = np.array([[2,3],[5,7],[11,13]])"
      ],
      "execution_count": 42,
      "outputs": []
    },
    {
      "cell_type": "code",
      "metadata": {
        "id": "O8rM3DnT1CTL",
        "colab_type": "code",
        "colab": {}
      },
      "source": [
        "C = A.dot(B)"
      ],
      "execution_count": 43,
      "outputs": []
    },
    {
      "cell_type": "code",
      "metadata": {
        "id": "zSoU18941eSy",
        "colab_type": "code",
        "colab": {
          "base_uri": "https://localhost:8080/",
          "height": 85
        },
        "outputId": "ed53ccbb-8109-41ba-d1f5-b3225a40f194"
      },
      "source": [
        "C"
      ],
      "execution_count": 45,
      "outputs": [
        {
          "output_type": "execute_result",
          "data": {
            "text/plain": [
              "array([[ 45,  56],\n",
              "       [ 99, 125],\n",
              "       [153, 194],\n",
              "       [207, 263]])"
            ]
          },
          "metadata": {
            "tags": []
          },
          "execution_count": 45
        }
      ]
    },
    {
      "cell_type": "code",
      "metadata": {
        "id": "Rn34T2To1e7M",
        "colab_type": "code",
        "colab": {}
      },
      "source": [
        "A = np.array([[2,3],[5,7],[11,13]])\n",
        "B = np.array([[1,3],[2,1]])\n",
        "C = np.array([[3,1],[4,2]])"
      ],
      "execution_count": 46,
      "outputs": []
    },
    {
      "cell_type": "code",
      "metadata": {
        "id": "agCiOl6A2I5Q",
        "colab_type": "code",
        "colab": {
          "base_uri": "https://localhost:8080/",
          "height": 68
        },
        "outputId": "e363aa1b-cce8-422f-ba17-43c2b19720de"
      },
      "source": [
        "# Associative\n",
        "ABC = A.dot(B.dot(C))\n",
        "ABC"
      ],
      "execution_count": 47,
      "outputs": [
        {
          "output_type": "execute_result",
          "data": {
            "text/plain": [
              "array([[ 60,  26],\n",
              "       [145,  63],\n",
              "       [295, 129]])"
            ]
          },
          "metadata": {
            "tags": []
          },
          "execution_count": 47
        }
      ]
    },
    {
      "cell_type": "code",
      "metadata": {
        "id": "2J5DSstB2WsU",
        "colab_type": "code",
        "colab": {
          "base_uri": "https://localhost:8080/",
          "height": 68
        },
        "outputId": "f7b6b759-e44f-435b-c53d-7b92a79e6a25"
      },
      "source": [
        "AB_C = A.dot(B).dot(C)\n",
        "AB_C"
      ],
      "execution_count": 48,
      "outputs": [
        {
          "output_type": "execute_result",
          "data": {
            "text/plain": [
              "array([[ 60,  26],\n",
              "       [145,  63],\n",
              "       [295, 129]])"
            ]
          },
          "metadata": {
            "tags": []
          },
          "execution_count": 48
        }
      ]
    },
    {
      "cell_type": "code",
      "metadata": {
        "id": "BPC38z_n2e-E",
        "colab_type": "code",
        "colab": {}
      },
      "source": [
        "# Distributive\n",
        "\n",
        "D = A.dot(B+C)\n",
        "E = (A.dot(B))+(A.dot(C))"
      ],
      "execution_count": 49,
      "outputs": []
    },
    {
      "cell_type": "code",
      "metadata": {
        "id": "lmXf2G-b2u81",
        "colab_type": "code",
        "colab": {
          "base_uri": "https://localhost:8080/",
          "height": 119
        },
        "outputId": "3983e604-b944-40b8-944c-3ec2ef18d387"
      },
      "source": [
        "print(D)\n",
        "print(E)"
      ],
      "execution_count": 50,
      "outputs": [
        {
          "output_type": "stream",
          "text": [
            "[[ 26  17]\n",
            " [ 62  41]\n",
            " [122  83]]\n",
            "[[ 26  17]\n",
            " [ 62  41]\n",
            " [122  83]]\n"
          ],
          "name": "stdout"
        }
      ]
    },
    {
      "cell_type": "code",
      "metadata": {
        "id": "NXQclqtg2yWc",
        "colab_type": "code",
        "colab": {
          "base_uri": "https://localhost:8080/",
          "height": 68
        },
        "outputId": "8559d70f-046a-4a09-fe5d-4e22c8f02b3e"
      },
      "source": [
        "D == E"
      ],
      "execution_count": 51,
      "outputs": [
        {
          "output_type": "execute_result",
          "data": {
            "text/plain": [
              "array([[ True,  True],\n",
              "       [ True,  True],\n",
              "       [ True,  True]])"
            ]
          },
          "metadata": {
            "tags": []
          },
          "execution_count": 51
        }
      ]
    },
    {
      "cell_type": "code",
      "metadata": {
        "id": "0HMi74pM21SE",
        "colab_type": "code",
        "colab": {}
      },
      "source": [
        "# Commutative\n",
        "\n",
        "F = B.dot(C)\n",
        "G = C.dot(B)"
      ],
      "execution_count": 52,
      "outputs": []
    },
    {
      "cell_type": "code",
      "metadata": {
        "id": "0uW4bNXk3FoN",
        "colab_type": "code",
        "colab": {
          "base_uri": "https://localhost:8080/",
          "height": 51
        },
        "outputId": "3c6940e5-a403-4773-bfe7-ed6ee97cc133"
      },
      "source": [
        "F == G"
      ],
      "execution_count": 54,
      "outputs": [
        {
          "output_type": "execute_result",
          "data": {
            "text/plain": [
              "array([[False, False],\n",
              "       [False, False]])"
            ]
          },
          "metadata": {
            "tags": []
          },
          "execution_count": 54
        }
      ]
    },
    {
      "cell_type": "code",
      "metadata": {
        "id": "1SzCe6kQ3JB1",
        "colab_type": "code",
        "colab": {
          "base_uri": "https://localhost:8080/",
          "height": 85
        },
        "outputId": "9e748bd6-dcde-4771-8b5e-dee2eaece6fc"
      },
      "source": [
        "print(F)\n",
        "print(G)"
      ],
      "execution_count": 55,
      "outputs": [
        {
          "output_type": "stream",
          "text": [
            "[[15  7]\n",
            " [10  4]]\n",
            "[[ 5 10]\n",
            " [ 8 14]]\n"
          ],
          "name": "stdout"
        }
      ]
    },
    {
      "cell_type": "code",
      "metadata": {
        "id": "MepUBvSW3RQk",
        "colab_type": "code",
        "colab": {
          "base_uri": "https://localhost:8080/",
          "height": 68
        },
        "outputId": "2910dfb7-2e71-4b44-c51d-b90621d6330b"
      },
      "source": [
        "A"
      ],
      "execution_count": 56,
      "outputs": [
        {
          "output_type": "execute_result",
          "data": {
            "text/plain": [
              "array([[ 2,  3],\n",
              "       [ 5,  7],\n",
              "       [11, 13]])"
            ]
          },
          "metadata": {
            "tags": []
          },
          "execution_count": 56
        }
      ]
    },
    {
      "cell_type": "code",
      "metadata": {
        "id": "3FELkRqFBHi9",
        "colab_type": "code",
        "colab": {
          "base_uri": "https://localhost:8080/",
          "height": 51
        },
        "outputId": "1f592bfb-8084-4210-9847-b3a95384d3ea"
      },
      "source": [
        "B"
      ],
      "execution_count": 57,
      "outputs": [
        {
          "output_type": "execute_result",
          "data": {
            "text/plain": [
              "array([[1, 3],\n",
              "       [2, 1]])"
            ]
          },
          "metadata": {
            "tags": []
          },
          "execution_count": 57
        }
      ]
    },
    {
      "cell_type": "code",
      "metadata": {
        "id": "vXIy1ryWBI6e",
        "colab_type": "code",
        "colab": {}
      },
      "source": [
        "AB_t = A.dot(B).T"
      ],
      "execution_count": 58,
      "outputs": []
    },
    {
      "cell_type": "code",
      "metadata": {
        "id": "Z8bpPaNNBNmt",
        "colab_type": "code",
        "colab": {}
      },
      "source": [
        "B_tA_T = B.T.dot(A.T)"
      ],
      "execution_count": 59,
      "outputs": []
    },
    {
      "cell_type": "code",
      "metadata": {
        "id": "y-mGP_YqBVLt",
        "colab_type": "code",
        "colab": {
          "base_uri": "https://localhost:8080/",
          "height": 51
        },
        "outputId": "16af00f6-a3c0-410b-920e-79da43df5819"
      },
      "source": [
        "print(AB_t == B_tA_T)"
      ],
      "execution_count": 60,
      "outputs": [
        {
          "output_type": "stream",
          "text": [
            "[[ True  True  True]\n",
            " [ True  True  True]]\n"
          ],
          "name": "stdout"
        }
      ]
    },
    {
      "cell_type": "code",
      "metadata": {
        "id": "nv44hoFABgrM",
        "colab_type": "code",
        "colab": {
          "base_uri": "https://localhost:8080/",
          "height": 51
        },
        "outputId": "031e6185-869b-483f-8374-ea160496aab0"
      },
      "source": [
        "AB_t"
      ],
      "execution_count": 61,
      "outputs": [
        {
          "output_type": "execute_result",
          "data": {
            "text/plain": [
              "array([[ 8, 19, 37],\n",
              "       [ 9, 22, 46]])"
            ]
          },
          "metadata": {
            "tags": []
          },
          "execution_count": 61
        }
      ]
    },
    {
      "cell_type": "markdown",
      "metadata": {
        "id": "GmSJVloKCCih",
        "colab_type": "text"
      },
      "source": [
        "# Equations with Matrixes"
      ]
    },
    {
      "cell_type": "code",
      "metadata": {
        "id": "uOP6BSA9BmqH",
        "colab_type": "code",
        "colab": {}
      },
      "source": [
        "x = np.arange(-5,5)"
      ],
      "execution_count": 65,
      "outputs": []
    },
    {
      "cell_type": "code",
      "metadata": {
        "id": "ZKjV8wzeCW5g",
        "colab_type": "code",
        "colab": {}
      },
      "source": [
        "y_1 = 3*x + 5\n",
        "y_2 = 2*x + 3"
      ],
      "execution_count": 66,
      "outputs": []
    },
    {
      "cell_type": "code",
      "metadata": {
        "id": "z_ooxRKYCgY_",
        "colab_type": "code",
        "colab": {
          "base_uri": "https://localhost:8080/",
          "height": 282
        },
        "outputId": "2fb7b89d-3061-4484-8668-283b68ac228f"
      },
      "source": [
        "plt.figure()\n",
        "\n",
        "plt.plot(x, y_1)\n",
        "plt.plot(x, y_2)\n",
        "\n",
        "plt.xlim(-5,5)\n",
        "plt.ylim(-5,5)\n",
        "\n",
        "plt.axvline(x=0, color=\"grey\")\n",
        "plt.axhline(y=0, color=\"grey\")"
      ],
      "execution_count": 68,
      "outputs": [
        {
          "output_type": "execute_result",
          "data": {
            "text/plain": [
              "<matplotlib.lines.Line2D at 0x7f30a2d0c518>"
            ]
          },
          "metadata": {
            "tags": []
          },
          "execution_count": 68
        },
        {
          "output_type": "display_data",
          "data": {
            "image/png": "[encoded data removed]",
            "text/plain": [
              "<Figure size 432x288 with 1 Axes>"
            ]
          },
          "metadata": {
            "tags": [],
            "needs_background": "light"
          }
        }
      ]
    },
    {
      "cell_type": "code",
      "metadata": {
        "id": "HVKepd9lC4Wm",
        "colab_type": "code",
        "colab": {
          "base_uri": "https://localhost:8080/",
          "height": 51
        },
        "outputId": "b0e95a30-f941-48d8-d330-0795eb26c82b"
      },
      "source": [
        "A = np.array([[-3, 1], [-2,1]])\n",
        "A"
      ],
      "execution_count": 69,
      "outputs": [
        {
          "output_type": "execute_result",
          "data": {
            "text/plain": [
              "array([[-3,  1],\n",
              "       [-2,  1]])"
            ]
          },
          "metadata": {
            "tags": []
          },
          "execution_count": 69
        }
      ]
    },
    {
      "cell_type": "code",
      "metadata": {
        "id": "dg28dexsEEoJ",
        "colab_type": "code",
        "colab": {
          "base_uri": "https://localhost:8080/",
          "height": 51
        },
        "outputId": "4c6886f5-9a37-44fe-fe98-80a74d42c457"
      },
      "source": [
        "B = np.array([[5],[3]])\n",
        "B"
      ],
      "execution_count": 71,
      "outputs": [
        {
          "output_type": "execute_result",
          "data": {
            "text/plain": [
              "array([[5],\n",
              "       [3]])"
            ]
          },
          "metadata": {
            "tags": []
          },
          "execution_count": 71
        }
      ]
    },
    {
      "cell_type": "code",
      "metadata": {
        "id": "RU3XpMr9EKxY",
        "colab_type": "code",
        "colab": {
          "base_uri": "https://localhost:8080/",
          "height": 34
        },
        "outputId": "83c01d73-d902-4677-fabb-28192de7ae76"
      },
      "source": [
        "sol_1 = np.array([-2, -1])\n",
        "sol_1"
      ],
      "execution_count": 72,
      "outputs": [
        {
          "output_type": "execute_result",
          "data": {
            "text/plain": [
              "array([-2, -1])"
            ]
          },
          "metadata": {
            "tags": []
          },
          "execution_count": 72
        }
      ]
    },
    {
      "cell_type": "code",
      "metadata": {
        "id": "BjisE-uYET56",
        "colab_type": "code",
        "colab": {
          "base_uri": "https://localhost:8080/",
          "height": 34
        },
        "outputId": "f6e58798-2aec-4b6a-c704-3cc5dc0ca64e"
      },
      "source": [
        "print(A.dot(sol_1))"
      ],
      "execution_count": 73,
      "outputs": [
        {
          "output_type": "stream",
          "text": [
            "[5 3]\n"
          ],
          "name": "stdout"
        }
      ]
    },
    {
      "cell_type": "code",
      "metadata": {
        "id": "q2RU067REYSo",
        "colab_type": "code",
        "colab": {}
      },
      "source": [
        "id = np.eye(4)"
      ],
      "execution_count": 74,
      "outputs": []
    },
    {
      "cell_type": "code",
      "metadata": {
        "id": "LbOIWslrE5z2",
        "colab_type": "code",
        "colab": {
          "base_uri": "https://localhost:8080/",
          "height": 85
        },
        "outputId": "aed674ec-ed95-4738-bf76-f1b13857a22d"
      },
      "source": [
        "id"
      ],
      "execution_count": 75,
      "outputs": [
        {
          "output_type": "execute_result",
          "data": {
            "text/plain": [
              "array([[1., 0., 0., 0.],\n",
              "       [0., 1., 0., 0.],\n",
              "       [0., 0., 1., 0.],\n",
              "       [0., 0., 0., 1.]])"
            ]
          },
          "metadata": {
            "tags": []
          },
          "execution_count": 75
        }
      ]
    },
    {
      "cell_type": "code",
      "metadata": {
        "id": "-t6t6P4CE7gd",
        "colab_type": "code",
        "colab": {}
      },
      "source": [
        "vector = np.array([[2],[3],[5],[7]])"
      ],
      "execution_count": 77,
      "outputs": []
    },
    {
      "cell_type": "code",
      "metadata": {
        "id": "9sUuEWW6FIh2",
        "colab_type": "code",
        "colab": {
          "base_uri": "https://localhost:8080/",
          "height": 85
        },
        "outputId": "e98cfd2b-7972-4fef-d879-faa6106b57d5"
      },
      "source": [
        "vector"
      ],
      "execution_count": 78,
      "outputs": [
        {
          "output_type": "execute_result",
          "data": {
            "text/plain": [
              "array([[2],\n",
              "       [3],\n",
              "       [5],\n",
              "       [7]])"
            ]
          },
          "metadata": {
            "tags": []
          },
          "execution_count": 78
        }
      ]
    },
    {
      "cell_type": "code",
      "metadata": {
        "id": "mpGudJOcFTbd",
        "colab_type": "code",
        "colab": {
          "base_uri": "https://localhost:8080/",
          "height": 85
        },
        "outputId": "852398a1-75e9-4170-8041-698f3e0f0c16"
      },
      "source": [
        "print(id.dot(vector))"
      ],
      "execution_count": 79,
      "outputs": [
        {
          "output_type": "stream",
          "text": [
            "[[2.]\n",
            " [3.]\n",
            " [5.]\n",
            " [7.]]\n"
          ],
          "name": "stdout"
        }
      ]
    },
    {
      "cell_type": "code",
      "metadata": {
        "id": "HKATftz8FuAT",
        "colab_type": "code",
        "colab": {}
      },
      "source": [
        "np.set_printoptions(suppress=True)"
      ],
      "execution_count": 80,
      "outputs": []
    },
    {
      "cell_type": "code",
      "metadata": {
        "id": "00pgpHHIHGNQ",
        "colab_type": "code",
        "colab": {
          "base_uri": "https://localhost:8080/",
          "height": 51
        },
        "outputId": "101d5c83-1f5c-46ae-b4a7-b0a45df4946e"
      },
      "source": [
        "A = np.array([[3,1],[2,1]])\n",
        "print(A)"
      ],
      "execution_count": 82,
      "outputs": [
        {
          "output_type": "stream",
          "text": [
            "[[3 1]\n",
            " [2 1]]\n"
          ],
          "name": "stdout"
        }
      ]
    },
    {
      "cell_type": "code",
      "metadata": {
        "id": "OwT6Hmc1HPiu",
        "colab_type": "code",
        "colab": {}
      },
      "source": [
        "B = np.array([[1],[1]])"
      ],
      "execution_count": 83,
      "outputs": []
    },
    {
      "cell_type": "code",
      "metadata": {
        "id": "KEg3lXazHbtV",
        "colab_type": "code",
        "colab": {
          "base_uri": "https://localhost:8080/",
          "height": 51
        },
        "outputId": "05d47678-50d7-40b3-f5ec-6a309d23846b"
      },
      "source": [
        "inv_A = np.linalg.inv(A)\n",
        "inv_A"
      ],
      "execution_count": 84,
      "outputs": [
        {
          "output_type": "execute_result",
          "data": {
            "text/plain": [
              "array([[ 1., -1.],\n",
              "       [-2.,  3.]])"
            ]
          },
          "metadata": {
            "tags": []
          },
          "execution_count": 84
        }
      ]
    },
    {
      "cell_type": "code",
      "metadata": {
        "id": "bL8120dCHh_F",
        "colab_type": "code",
        "colab": {
          "base_uri": "https://localhost:8080/",
          "height": 51
        },
        "outputId": "72b6a2fb-22db-4cfe-ed5c-fe4da8f3b48f"
      },
      "source": [
        "x = inv_A.dot(B)\n",
        "x"
      ],
      "execution_count": 85,
      "outputs": [
        {
          "output_type": "execute_result",
          "data": {
            "text/plain": [
              "array([[0.],\n",
              "       [1.]])"
            ]
          },
          "metadata": {
            "tags": []
          },
          "execution_count": 85
        }
      ]
    },
    {
      "cell_type": "code",
      "metadata": {
        "id": "r8e8A3eZHuLu",
        "colab_type": "code",
        "colab": {
          "base_uri": "https://localhost:8080/",
          "height": 51
        },
        "outputId": "89fa93d7-5fcc-4ca5-ca11-9b880eb6371e"
      },
      "source": [
        "sol_2 = inv_A.dot(np.array([[3],[7]]))\n",
        "sol_2"
      ],
      "execution_count": 86,
      "outputs": [
        {
          "output_type": "execute_result",
          "data": {
            "text/plain": [
              "array([[-4.],\n",
              "       [15.]])"
            ]
          },
          "metadata": {
            "tags": []
          },
          "execution_count": 86
        }
      ]
    },
    {
      "cell_type": "code",
      "metadata": {
        "id": "S_iwJXfyISwL",
        "colab_type": "code",
        "colab": {
          "base_uri": "https://localhost:8080/",
          "height": 51
        },
        "outputId": "0588636d-285c-4c75-fcec-fb9d1f7c8a44"
      },
      "source": [
        "print(A.dot(sol_2))"
      ],
      "execution_count": 87,
      "outputs": [
        {
          "output_type": "stream",
          "text": [
            "[[3.]\n",
            " [7.]]\n"
          ],
          "name": "stdout"
        }
      ]
    },
    {
      "cell_type": "markdown",
      "metadata": {
        "id": "fvPJDV8y0gAa",
        "colab_type": "text"
      },
      "source": [
        "# Linear Equations Systems"
      ]
    },
    {
      "cell_type": "code",
      "metadata": {
        "id": "xVQ-NZTb0eu7",
        "colab_type": "code",
        "colab": {}
      },
      "source": [
        "# Equations to assess:\n",
        "# y = 3x + 5\n",
        "# y = -1x + 3\n",
        "# y = 2x + 1"
      ],
      "execution_count": 3,
      "outputs": []
    },
    {
      "cell_type": "code",
      "metadata": {
        "id": "1MLNFRfAIbWz",
        "colab_type": "code",
        "colab": {}
      },
      "source": [
        "%matplotlib inline"
      ],
      "execution_count": 13,
      "outputs": []
    },
    {
      "cell_type": "code",
      "metadata": {
        "id": "hifOKGAl1MUZ",
        "colab_type": "code",
        "colab": {}
      },
      "source": [
        "x = np.arange(-6, 6)\n",
        "\n",
        "y_1 = 3*x+5\n",
        "y_2 = -x+3\n",
        "y_3 = 2*x+1"
      ],
      "execution_count": 12,
      "outputs": []
    },
    {
      "cell_type": "code",
      "metadata": {
        "id": "NxfjDiJvFurB",
        "colab_type": "code",
        "colab": {
          "base_uri": "https://localhost:8080/",
          "height": 269
        },
        "outputId": "744f827d-3032-4a16-dd19-3479d4f4af56"
      },
      "source": [
        "plt.figure()\n",
        "plt.plot(x, y_1)\n",
        "plt.plot(x, y_2)\n",
        "plt.plot(x, y_3)\n",
        "\n",
        "plt.xlim(-8,8)\n",
        "plt.ylim(-8,8)\n",
        "\n",
        "plt.axvline(x=0, color = \"grey\")\n",
        "plt.axhline(y=0, color = \"grey\")\n",
        "plt.show()"
      ],
      "execution_count": 14,
      "outputs": [
        {
          "output_type": "display_data",
          "data": {
            "image/png": "[encoded data removed]",
            "text/plain": [
              "<Figure size 432x288 with 1 Axes>"
            ]
          },
          "metadata": {
            "tags": [],
            "needs_background": "light"
          }
        }
      ]
    },
    {
      "cell_type": "code",
      "metadata": {
        "id": "04VaOjzDGFDO",
        "colab_type": "code",
        "colab": {}
      },
      "source": [
        "x = np.arange(-6,6)\n",
        "\n",
        "y_2 = -1*x+3\n",
        "y_3 = 2*x+1"
      ],
      "execution_count": 17,
      "outputs": []
    },
    {
      "cell_type": "code",
      "metadata": {
        "id": "xcBW6W5BKWJO",
        "colab_type": "code",
        "colab": {
          "base_uri": "https://localhost:8080/",
          "height": 269
        },
        "outputId": "8cfd1e24-ff8b-44e8-c7be-92890a261d84"
      },
      "source": [
        "plt.figure()\n",
        "plt.plot(x, y_2)\n",
        "plt.plot(x, y_3)\n",
        "\n",
        "plt.xlim(-8,8)\n",
        "plt.ylim(-8,8)\n",
        "\n",
        "plt.axvline(x=0, color = \"grey\")\n",
        "plt.axhline(y=0, color = \"grey\")\n",
        "plt.show()"
      ],
      "execution_count": 19,
      "outputs": [
        {
          "output_type": "display_data",
          "data": {
            "image/png": "[encoded data removed]",
            "text/plain": [
              "<Figure size 432x288 with 1 Axes>"
            ]
          },
          "metadata": {
            "tags": [],
            "needs_background": "light"
          }
        }
      ]
    },
    {
      "cell_type": "code",
      "metadata": {
        "id": "yFwv1AziKyFA",
        "colab_type": "code",
        "colab": {}
      },
      "source": [
        "x = np.arange(-6,6)\n",
        "\n",
        "y_3 = 2*x+1"
      ],
      "execution_count": 20,
      "outputs": []
    },
    {
      "cell_type": "code",
      "metadata": {
        "id": "zZAOA4JtLZ3b",
        "colab_type": "code",
        "colab": {
          "base_uri": "https://localhost:8080/",
          "height": 269
        },
        "outputId": "a5391e92-7bf4-4c85-b1e5-79cce2b1d9b2"
      },
      "source": [
        "plt.figure()\n",
        "plt.plot(x, y_3)\n",
        "\n",
        "plt.xlim(-8,8)\n",
        "plt.ylim(-8,8)\n",
        "\n",
        "plt.axvline(x=0, color = \"grey\")\n",
        "plt.axhline(y=0, color = \"grey\")\n",
        "plt.show()"
      ],
      "execution_count": 21,
      "outputs": [
        {
          "output_type": "display_data",
          "data": {
            "image/png": "[encoded data removed]",
            "text/plain": [
              "<Figure size 432x288 with 1 Axes>"
            ]
          },
          "metadata": {
            "tags": [],
            "needs_background": "light"
          }
        }
      ]
    },
    {
      "cell_type": "markdown",
      "metadata": {
        "id": "uRDzpNNWLgO-",
        "colab_type": "text"
      },
      "source": [
        "**Over-determined solutions**: more equations than variables \n",
        "**Determined solutions**: two equations \n",
        "**Indetermined**: one equations and +2 variables\n"
      ]
    },
    {
      "cell_type": "code",
      "metadata": {
        "id": "KCph-RaNLej3",
        "colab_type": "code",
        "colab": {}
      },
      "source": [
        "v1 = np.array([2,5])\n",
        "v2 = np.array([3,2])"
      ],
      "execution_count": 22,
      "outputs": []
    },
    {
      "cell_type": "code",
      "metadata": {
        "id": "ZtzckIKuMZ6N",
        "colab_type": "code",
        "colab": {}
      },
      "source": [
        "def graficarVectores(vecs, cols, alpha = 1):\n",
        "\n",
        "  plt.figure()\n",
        "  plt.axvline(x = 0, color = \"grey\", zorder = 0)\n",
        "  plt.axhline(y = 0, color = \"grey\", zorder = 0)\n",
        "\n",
        "  for i in range(len(vecs)):\n",
        "    x = np.concatenate([[0,0], vecs[i]])\n",
        "    plt.quiver([x[0]],\n",
        "               [x[1]],\n",
        "               [x[2]],\n",
        "               [x[3]],\n",
        "               angles=\"xy\", scale_units=\"xy\", scale=1,\n",
        "               color=cols[i],\n",
        "               alpha = alpha)"
      ],
      "execution_count": 8,
      "outputs": []
    },
    {
      "cell_type": "code",
      "metadata": {
        "id": "0F332OfbNZqV",
        "colab_type": "code",
        "colab": {
          "base_uri": "https://localhost:8080/",
          "height": 286
        },
        "outputId": "5d79bdc3-cb7a-4f9b-a2b3-813a2850a117"
      },
      "source": [
        "graficarVectores([v1, v2], [\"orange\", \"blue\"])\n",
        "plt.xlim(-1, 8)\n",
        "plt.ylim(-1, 8)"
      ],
      "execution_count": 33,
      "outputs": [
        {
          "output_type": "execute_result",
          "data": {
            "text/plain": [
              "(-1.0, 8.0)"
            ]
          },
          "metadata": {
            "tags": []
          },
          "execution_count": 33
        },
        {
          "output_type": "display_data",
          "data": {
            "image/png": "[encoded data removed]",
            "text/plain": [
              "<Figure size 432x288 with 1 Axes>"
            ]
          },
          "metadata": {
            "tags": [],
            "needs_background": "light"
          }
        }
      ]
    },
    {
      "cell_type": "code",
      "metadata": {
        "id": "RZqUR4a2NprX",
        "colab_type": "code",
        "colab": {}
      },
      "source": [
        "# Linear Combination: Multiply a vector for a esclarar\n",
        "## V1 x 2 == V1V2\n",
        "## V2 x 3"
      ],
      "execution_count": null,
      "outputs": []
    },
    {
      "cell_type": "code",
      "metadata": {
        "id": "1iz6kEvOysZZ",
        "colab_type": "code",
        "colab": {}
      },
      "source": [
        "v1 = np.array([2,5])\n",
        "v2 = np.array([3,2])"
      ],
      "execution_count": 41,
      "outputs": []
    },
    {
      "cell_type": "code",
      "metadata": {
        "id": "x_2ev6-Hy1Ef",
        "colab_type": "code",
        "colab": {}
      },
      "source": [
        "v1v2 = 2*v1+v2"
      ],
      "execution_count": 46,
      "outputs": []
    },
    {
      "cell_type": "code",
      "metadata": {
        "id": "Q4HpfOVAy6Z2",
        "colab_type": "code",
        "colab": {
          "base_uri": "https://localhost:8080/",
          "height": 34
        },
        "outputId": "1223e9a6-b333-4101-ea26-f01268001e9d"
      },
      "source": [
        "v1v2"
      ],
      "execution_count": 49,
      "outputs": [
        {
          "output_type": "execute_result",
          "data": {
            "text/plain": [
              "array([ 7, 12])"
            ]
          },
          "metadata": {
            "tags": []
          },
          "execution_count": 49
        }
      ]
    },
    {
      "cell_type": "code",
      "metadata": {
        "id": "VfVHqVxny7vJ",
        "colab_type": "code",
        "colab": {
          "base_uri": "https://localhost:8080/",
          "height": 286
        },
        "outputId": "dad0efb5-1ad9-470d-c468-6b3aa716025c"
      },
      "source": [
        "graficarVectores([v1, v2, v1v2], [\"orange\", \"blue\", \"red\"])\n",
        "plt.xlim(-1,8)\n",
        "plt.ylim(-1,12)"
      ],
      "execution_count": 48,
      "outputs": [
        {
          "output_type": "execute_result",
          "data": {
            "text/plain": [
              "(-1.0, 12.0)"
            ]
          },
          "metadata": {
            "tags": []
          },
          "execution_count": 48
        },
        {
          "output_type": "display_data",
          "data": {
            "image/png": "[encoded data removed]",
            "text/plain": [
              "<Figure size 432x288 with 1 Axes>"
            ]
          },
          "metadata": {
            "tags": [],
            "needs_background": "light"
          }
        }
      ]
    },
    {
      "cell_type": "code",
      "metadata": {
        "id": "fB_lki7dzFX_",
        "colab_type": "code",
        "colab": {
          "base_uri": "https://localhost:8080/",
          "height": 269
        },
        "outputId": "4d98ee75-a60d-486a-8bac-15d3c8175e75"
      },
      "source": [
        "for a in range(-10,10):\n",
        "  for b in range(-10,10):\n",
        "    plt.scatter(v1[0]*a + v2[0]*b, v1[1]*a+v2[1]*b,\n",
        "                marker = \".\",\n",
        "                color = \"orange\")\n",
        "    \n",
        "plt.xlim(-100,100)\n",
        "plt.ylim(-100,100)\n",
        "\n",
        "plt.axvline(x=0, color = \"grey\")\n",
        "plt.axhline(y=0, color = \"grey\")\n",
        "\n",
        "plt.show()"
      ],
      "execution_count": 51,
      "outputs": [
        {
          "output_type": "display_data",
          "data": {
            "image/png": "[encoded data removed]",
            "text/plain": [
              "<Figure size 432x288 with 1 Axes>"
            ]
          },
          "metadata": {
            "tags": [],
            "needs_background": "light"
          }
        }
      ]
    },
    {
      "cell_type": "code",
      "metadata": {
        "id": "cT9wpVGj0DEO",
        "colab_type": "code",
        "colab": {}
      },
      "source": [
        "v1 = np.array([1, 1])\n",
        "v2 = np.array([-1, -1])"
      ],
      "execution_count": 52,
      "outputs": []
    },
    {
      "cell_type": "code",
      "metadata": {
        "id": "m4gHNlGz1bHn",
        "colab_type": "code",
        "colab": {
          "base_uri": "https://localhost:8080/",
          "height": 265
        },
        "outputId": "0653c3d4-dc84-4d9c-d344-f30b03c4fa1b"
      },
      "source": [
        "for a in range(-10,10):\n",
        "  for b in range(-10,10):\n",
        "    plt.scatter(v1[0]*a + v2[0]*b, v1[1]*a+v2[1]*b,\n",
        "                marker = \".\",\n",
        "                color = \"orange\")\n",
        "    \n",
        "plt.xlim(-25,25)\n",
        "plt.ylim(-25,25)\n",
        "\n",
        "plt.axvline(x=0, color = \"grey\")\n",
        "plt.axhline(y=0, color = \"grey\")\n",
        "\n",
        "plt.show()"
      ],
      "execution_count": 53,
      "outputs": [
        {
          "output_type": "display_data",
          "data": {
            "image/png": "[encoded data removed]",
            "text/plain": [
              "<Figure size 432x288 with 1 Axes>"
            ]
          },
          "metadata": {
            "tags": [],
            "needs_background": "light"
          }
        }
      ]
    },
    {
      "cell_type": "code",
      "metadata": {
        "id": "Wo0XecZm1mqJ",
        "colab_type": "code",
        "colab": {}
      },
      "source": [
        "v1 = np.array([1,0])\n",
        "v2 = np.array([2,-3])"
      ],
      "execution_count": 54,
      "outputs": []
    },
    {
      "cell_type": "code",
      "metadata": {
        "id": "187XCzeS2vzp",
        "colab_type": "code",
        "colab": {
          "base_uri": "https://localhost:8080/",
          "height": 265
        },
        "outputId": "693f484c-8ded-4926-f117-c691299a6885"
      },
      "source": [
        "for a in range(-10,10):\n",
        "  for b in range(-10,10):\n",
        "    plt.scatter(v1[0]*a + v2[0]*b, v1[1]*a+v2[1]*b,\n",
        "                marker = \".\",\n",
        "                color = \"orange\")\n",
        "    \n",
        "plt.xlim(-25,25)\n",
        "plt.ylim(-25,25)\n",
        "\n",
        "plt.axvline(x=0, color = \"grey\")\n",
        "plt.axhline(y=0, color = \"grey\")\n",
        "\n",
        "plt.show()"
      ],
      "execution_count": 55,
      "outputs": [
        {
          "output_type": "display_data",
          "data": {
            "image/png": "[encoded data removed]",
            "text/plain": [
              "<Figure size 432x288 with 1 Axes>"
            ]
          },
          "metadata": {
            "tags": [],
            "needs_background": "light"
          }
        }
      ]
    },
    {
      "cell_type": "code",
      "metadata": {
        "id": "oIAZLKa-3Q4_",
        "colab_type": "code",
        "colab": {}
      },
      "source": [
        "from mpl_toolkits.mplot3d import Axes3D"
      ],
      "execution_count": 56,
      "outputs": []
    },
    {
      "cell_type": "code",
      "metadata": {
        "id": "kBqSLkDt3Wl8",
        "colab_type": "code",
        "colab": {
          "base_uri": "https://localhost:8080/",
          "height": 248
        },
        "outputId": "e13ae104-ce2e-40ba-9835-4eb82a9c491e"
      },
      "source": [
        "v1 = np.array([1,0,0])\n",
        "v2 = np.array([2,-3,0])\n",
        "\n",
        "fig = plt.figure()\n",
        "ax = fig.add_subplot(111, projection='3d')\n",
        "\n",
        "for a in range(-10,10):\n",
        "  for b in range(-10,10):\n",
        "    ax.scatter(v1[0]*a + v2[0]*b, v1[1]*a+v2[1]*b, \n",
        "               v1[2]*a + v2[2]*b, \n",
        "                marker = \".\",\n",
        "                color = \"orange\")\n",
        "    \n",
        "ax.set_xlabel(\"X Exe\")\n",
        "ax.set_ylabel(\"Y Exe\")\n",
        "ax.set_zlabel(\"Z Exe\")\n",
        "\n",
        "plt.axvline(x=0, color = \"grey\")\n",
        "plt.axhline(y=0, color = \"grey\")\n",
        "\n",
        "plt.show()"
      ],
      "execution_count": 58,
      "outputs": [
        {
          "output_type": "display_data",
          "data": {
            "image/png": "[encoded data removed]",
            "text/plain": [
              "<Figure size 432x288 with 1 Axes>"
            ]
          },
          "metadata": {
            "tags": [],
            "needs_background": "light"
          }
        }
      ]
    },
    {
      "cell_type": "code",
      "metadata": {
        "id": "yl5otvED3esp",
        "colab_type": "code",
        "colab": {}
      },
      "source": [
        "v1 = np.array([1,1])\n",
        "v2 = np.array([-1,-1])"
      ],
      "execution_count": 59,
      "outputs": []
    },
    {
      "cell_type": "code",
      "metadata": {
        "id": "-4tISENA6oBq",
        "colab_type": "code",
        "colab": {
          "base_uri": "https://localhost:8080/",
          "height": 1000
        },
        "outputId": "10519b54-e954-471b-e381-e75768edebdc"
      },
      "source": [
        "for a in range(-10,10):\n",
        "  for b in range (-10,10):\n",
        "    plt.scatter(v1[0]*a+v2[0]*b, v1[1]*a+v2[1]*b,\n",
        "                marker = \".\",\n",
        "                color = \"orange\")\n",
        "    \n",
        "  plt.xlim(-25,25)\n",
        "  plt.ylim(-25,25)\n",
        "\n",
        "  plt.axvline(x=0, color=\"grey\")\n",
        "  plt.axhline(y=0, color=\"grey\")\n",
        "\n",
        "  plt.show()"
      ],
      "execution_count": 64,
      "outputs": [
        {
          "output_type": "display_data",
          "data": {
            "image/png": "[encoded data removed]",
            "text/plain": [
              "<Figure size 432x288 with 1 Axes>"
            ]
          },
          "metadata": {
            "tags": [],
            "needs_background": "light"
          }
        },
        {
          "output_type": "display_data",
          "data": {
            "image/png": "[encoded data removed]",
            "text/plain": [
              "<Figure size 432x288 with 1 Axes>"
            ]
          },
          "metadata": {
            "tags": [],
            "needs_background": "light"
          }
        },
        {
          "output_type": "display_data",
          "data": {
            "image/png": "[encoded data removed]",
            "text/plain": [
              "<Figure size 432x288 with 1 Axes>"
            ]
          },
          "metadata": {
            "tags": [],
            "needs_background": "light"
          }
        },
        {
          "output_type": "display_data",
          "data": {
            "image/png": "[encoded data removed]",
            "text/plain": [
              "<Figure size 432x288 with 1 Axes>"
            ]
          },
          "metadata": {
            "tags": [],
            "needs_background": "light"
          }
        },
        {
          "output_type": "display_data",
          "data": {
            "image/png": "[encoded data removed]",
            "text/plain": [
              "<Figure size 432x288 with 1 Axes>"
            ]
          },
          "metadata": {
            "tags": [],
            "needs_background": "light"
          }
        },
        {
          "output_type": "display_data",
          "data": {
            "image/png": "[encoded data removed]",
            "text/plain": [
              "<Figure size 432x288 with 1 Axes>"
            ]
          },
          "metadata": {
            "tags": [],
            "needs_background": "light"
          }
        },
        {
          "output_type": "display_data",
          "data": {
            "image/png": "[encoded data removed]",
            "text/plain": [
              "<Figure size 432x288 with 1 Axes>"
            ]
          },
          "metadata": {
            "tags": [],
            "needs_background": "light"
          }
        },
        {
          "output_type": "display_data",
          "data": {
            "image/png": "[encoded data removed]",
            "text/plain": [
              "<Figure size 432x288 with 1 Axes>"
            ]
          },
          "metadata": {
            "tags": [],
            "needs_background": "light"
          }
        },
        {
          "output_type": "display_data",
          "data": {
            "image/png": "[encoded data removed]",
            "text/plain": [
              "<Figure size 432x288 with 1 Axes>"
            ]
          },
          "metadata": {
            "tags": [],
            "needs_background": "light"
          }
        },
        {
          "output_type": "display_data",
          "data": {
            "image/png": "[encoded data removed]",
            "text/plain": [
              "<Figure size 432x288 with 1 Axes>"
            ]
          },
          "metadata": {
            "tags": [],
            "needs_background": "light"
          }
        },
        {
          "output_type": "display_data",
          "data": {
            "image/png": "[encoded data removed]",
            "text/plain": [
              "<Figure size 432x288 with 1 Axes>"
            ]
          },
          "metadata": {
            "tags": [],
            "needs_background": "light"
          }
        },
        {
          "output_type": "display_data",
          "data": {
            "image/png": "[encoded data removed]",
            "text/plain": [
              "<Figure size 432x288 with 1 Axes>"
            ]
          },
          "metadata": {
            "tags": [],
            "needs_background": "light"
          }
        },
        {
          "output_type": "display_data",
          "data": {
            "image/png": "[encoded data removed]",
            "text/plain": [
              "<Figure size 432x288 with 1 Axes>"
            ]
          },
          "metadata": {
            "tags": [],
            "needs_background": "light"
          }
        },
        {
          "output_type": "display_data",
          "data": {
            "image/png": "[encoded data removed]",
            "text/plain": [
              "<Figure size 432x288 with 1 Axes>"
            ]
          },
          "metadata": {
            "tags": [],
            "needs_background": "light"
          }
        },
        {
          "output_type": "display_data",
          "data": {
            "image/png": "[encoded data removed]",
            "text/plain": [
              "<Figure size 432x288 with 1 Axes>"
            ]
          },
          "metadata": {
            "tags": [],
            "needs_background": "light"
          }
        },
        {
          "output_type": "display_data",
          "data": {
            "image/png": "[encoded data removed]",
            "text/plain": [
              "<Figure size 432x288 with 1 Axes>"
            ]
          },
          "metadata": {
            "tags": [],
            "needs_background": "light"
          }
        },
        {
          "output_type": "display_data",
          "data": {
            "image/png": "[encoded data removed]",
            "text/plain": [
              "<Figure size 432x288 with 1 Axes>"
            ]
          },
          "metadata": {
            "tags": [],
            "needs_background": "light"
          }
        },
        {
          "output_type": "display_data",
          "data": {
            "image/png": "[encoded data removed]",
            "text/plain": [
              "<Figure size 432x288 with 1 Axes>"
            ]
          },
          "metadata": {
            "tags": [],
            "needs_background": "light"
          }
        },
        {
          "output_type": "display_data",
          "data": {
            "image/png": "[encoded data removed]",
            "text/plain": [
              "<Figure size 432x288 with 1 Axes>"
            ]
          },
          "metadata": {
            "tags": [],
            "needs_background": "light"
          }
        },
        {
          "output_type": "display_data",
          "data": {
            "image/png": "[encoded data removed]",
            "text/plain": [
              "<Figure size 432x288 with 1 Axes>"
            ]
          },
          "metadata": {
            "tags": [],
            "needs_background": "light"
          }
        }
      ]
    },
    {
      "cell_type": "code",
      "metadata": {
        "id": "EIVaug1T7N1u",
        "colab_type": "code",
        "colab": {}
      },
      "source": [
        "A = np.array (\n",
        "    [\n",
        "    [0,1,0,0],\n",
        "    [0,0,1,0],\n",
        "    [0,1,1,0],\n",
        "    [1,0,0,1]]\n",
        ")"
      ],
      "execution_count": 65,
      "outputs": []
    },
    {
      "cell_type": "code",
      "metadata": {
        "id": "XhNgzGQN9j6H",
        "colab_type": "code",
        "colab": {
          "base_uri": "https://localhost:8080/",
          "height": 34
        },
        "outputId": "7a64548e-e0ca-4abb-a911-5945d381ce93"
      },
      "source": [
        "lambdas, V = np.linalg.eig(A.T)\n",
        "\n",
        "print(A[lambdas == 0, :])"
      ],
      "execution_count": 68,
      "outputs": [
        {
          "output_type": "stream",
          "text": [
            "[[0 1 1 0]]\n"
          ],
          "name": "stdout"
        }
      ]
    },
    {
      "cell_type": "markdown",
      "metadata": {
        "id": "lvuGnHdWL2ks",
        "colab_type": "text"
      },
      "source": [
        "# Norms"
      ]
    },
    {
      "cell_type": "markdown",
      "metadata": {
        "id": "F1BIQ7dcMd3C",
        "colab_type": "text"
      },
      "source": [
        "Norms are the method by which we can measure a vector. This should be =< 0. \n",
        "\n",
        "We can use them to identify any mistakes while creating classifications.\n",
        "\n",
        "The most common norm is the one that measures a vector from point 0.\n",
        "A norm A is = 0 only if B = 0\n",
        "A triangular norm is greater than norm(v1) and norm(v2).\n",
        "\n",
        "A norm * escalar = abs(a) x norm(a)"
      ]
    },
    {
      "cell_type": "code",
      "metadata": {
        "id": "-UDP-HTAMcsb",
        "colab_type": "code",
        "colab": {
          "base_uri": "https://localhost:8080/",
          "height": 51
        },
        "outputId": "3cc8f12e-f100-4dee-aafd-fb77622f1117"
      },
      "source": [
        "v1 = np.array([2,7])\n",
        "v2 = np.array([3,5])\n",
        "\n",
        "print(v1)\n",
        "print(v2)"
      ],
      "execution_count": 69,
      "outputs": [
        {
          "output_type": "stream",
          "text": [
            "[2 7]\n",
            "[3 5]\n"
          ],
          "name": "stdout"
        }
      ]
    },
    {
      "cell_type": "code",
      "metadata": {
        "id": "zog6SI1_NqaZ",
        "colab_type": "code",
        "colab": {
          "base_uri": "https://localhost:8080/",
          "height": 34
        },
        "outputId": "ac3128fe-7fbb-4fd2-a07b-138c30b26534"
      },
      "source": [
        "v1v2 = v1+v2\n",
        "v1v2"
      ],
      "execution_count": 70,
      "outputs": [
        {
          "output_type": "execute_result",
          "data": {
            "text/plain": [
              "array([ 5, 12])"
            ]
          },
          "metadata": {
            "tags": []
          },
          "execution_count": 70
        }
      ]
    },
    {
      "cell_type": "code",
      "metadata": {
        "id": "imIZxY7FNuZH",
        "colab_type": "code",
        "colab": {
          "base_uri": "https://localhost:8080/",
          "height": 34
        },
        "outputId": "f45a82d9-fd8f-47de-ca5d-9fc20215bc67"
      },
      "source": [
        "np.linalg.norm(v1v2)"
      ],
      "execution_count": 71,
      "outputs": [
        {
          "output_type": "execute_result",
          "data": {
            "text/plain": [
              "13.0"
            ]
          },
          "metadata": {
            "tags": []
          },
          "execution_count": 71
        }
      ]
    },
    {
      "cell_type": "code",
      "metadata": {
        "id": "mXmoE3IgNyR4",
        "colab_type": "code",
        "colab": {
          "base_uri": "https://localhost:8080/",
          "height": 34
        },
        "outputId": "0cd9acf8-e301-4e14-ce5f-a8b4cabb51d3"
      },
      "source": [
        "# Norm(v1v2) <= norm (v1) + norm (v2)\n",
        "\n",
        "norm_v1 = np.linalg.norm(v1)\n",
        "norm_v2 = np.linalg.norm(v2)\n",
        "norm_v1v2 = np.linalg.norm(v1v2)\n",
        "\n",
        "print(norm_v1v2 <= (norm_v1 + norm_v2))"
      ],
      "execution_count": 72,
      "outputs": [
        {
          "output_type": "stream",
          "text": [
            "True\n"
          ],
          "name": "stdout"
        }
      ]
    },
    {
      "cell_type": "code",
      "metadata": {
        "id": "BVUZSAroOSJo",
        "colab_type": "code",
        "colab": {
          "base_uri": "https://localhost:8080/",
          "height": 34
        },
        "outputId": "1c830de8-36f9-4b04-ddbd-e31e3a75df1b"
      },
      "source": [
        "norm_v1 + norm_v2"
      ],
      "execution_count": 73,
      "outputs": [
        {
          "output_type": "execute_result",
          "data": {
            "text/plain": [
              "13.11106178412582"
            ]
          },
          "metadata": {
            "tags": []
          },
          "execution_count": 73
        }
      ]
    },
    {
      "cell_type": "code",
      "metadata": {
        "id": "_3T4t4AqOV6g",
        "colab_type": "code",
        "colab": {}
      },
      "source": [
        "v1 = np.array([0,0,2,7])\n",
        "v2 = np.array([0,0,3,5])\n",
        "\n",
        "v1_aux = np.array([v1[2],v1[3],v2[2],v2[3]])\n",
        "v1v2 = np.array([0,0,5,12])"
      ],
      "execution_count": 77,
      "outputs": []
    },
    {
      "cell_type": "code",
      "metadata": {
        "id": "euorg3dQOpVh",
        "colab_type": "code",
        "colab": {
          "base_uri": "https://localhost:8080/",
          "height": 282
        },
        "outputId": "9581e26d-39be-4219-8595-8094b9d47caa"
      },
      "source": [
        "plt.quiver([v1[0], v1_aux[0], v1v2[0]],\n",
        "           [v1[1], v1_aux[1], v1v2[1]],\n",
        "           [v1[2], v1_aux[2], v1v2[2]],\n",
        "           [v1[3], v1_aux[3], v1v2[3]],\n",
        "           angles = \"xy\", scale_units = \"xy\", scale = 1,\n",
        "           color = sns.color_palette()\n",
        "           )\n",
        "\n",
        "plt.xlim(-0.5, 6)\n",
        "plt.ylim(-0.5, 15)"
      ],
      "execution_count": 80,
      "outputs": [
        {
          "output_type": "execute_result",
          "data": {
            "text/plain": [
              "(-0.5, 15.0)"
            ]
          },
          "metadata": {
            "tags": []
          },
          "execution_count": 80
        },
        {
          "output_type": "display_data",
          "data": {
            "image/png": "[encoded data removed]",
            "text/plain": [
              "<Figure size 432x288 with 1 Axes>"
            ]
          },
          "metadata": {
            "tags": [],
            "needs_background": "light"
          }
        }
      ]
    },
    {
      "cell_type": "code",
      "metadata": {
        "id": "chlQ0IPrPgep",
        "colab_type": "code",
        "colab": {
          "base_uri": "https://localhost:8080/",
          "height": 34
        },
        "outputId": "12611e7e-5c35-4c59-d049-8b7f4bc43674"
      },
      "source": [
        "## Norm Typs\n",
        "\n",
        "vector = np.array([1,2,0,5,6,0])\n",
        "\n",
        "print(np.linalg.norm(vector, ord=0))"
      ],
      "execution_count": 81,
      "outputs": [
        {
          "output_type": "stream",
          "text": [
            "4.0\n"
          ],
          "name": "stdout"
        }
      ]
    },
    {
      "cell_type": "code",
      "metadata": {
        "id": "_FiKcWmoQmxL",
        "colab_type": "code",
        "colab": {
          "base_uri": "https://localhost:8080/",
          "height": 34
        },
        "outputId": "5887a45c-5e40-4109-e63d-7d2162308ab4"
      },
      "source": [
        "vector = np.array([1,-1,1,-1,1])\n",
        "\n",
        "print(np.linalg.norm(vector, ord=1))"
      ],
      "execution_count": 82,
      "outputs": [
        {
          "output_type": "stream",
          "text": [
            "5.0\n"
          ],
          "name": "stdout"
        }
      ]
    },
    {
      "cell_type": "code",
      "metadata": {
        "id": "WXdO6lovQ9ZU",
        "colab_type": "code",
        "colab": {}
      },
      "source": [
        "vector = np.array([1,1])"
      ],
      "execution_count": 83,
      "outputs": []
    },
    {
      "cell_type": "code",
      "metadata": {
        "id": "AAKql-jlRaI6",
        "colab_type": "code",
        "colab": {
          "base_uri": "https://localhost:8080/",
          "height": 51
        },
        "outputId": "197a2679-e343-4dd6-a3d5-8b385b8dbcfa"
      },
      "source": [
        "print(np.linalg.norm(vector))\n",
        "print(np.linalg.norm(vector, ord=2))"
      ],
      "execution_count": 84,
      "outputs": [
        {
          "output_type": "stream",
          "text": [
            "1.4142135623730951\n",
            "1.4142135623730951\n"
          ],
          "name": "stdout"
        }
      ]
    },
    {
      "cell_type": "code",
      "metadata": {
        "id": "LWM9rIYHRkMY",
        "colab_type": "code",
        "colab": {
          "base_uri": "https://localhost:8080/",
          "height": 34
        },
        "outputId": "a1500e93-3abc-431d-e874-005ca8189373"
      },
      "source": [
        "vector = np.array([1,2,3,4,5,6])\n",
        "vector"
      ],
      "execution_count": 85,
      "outputs": [
        {
          "output_type": "execute_result",
          "data": {
            "text/plain": [
              "array([1, 2, 3, 4, 5, 6])"
            ]
          },
          "metadata": {
            "tags": []
          },
          "execution_count": 85
        }
      ]
    },
    {
      "cell_type": "code",
      "metadata": {
        "id": "PS1nKW1VRpAX",
        "colab_type": "code",
        "colab": {
          "base_uri": "https://localhost:8080/",
          "height": 34
        },
        "outputId": "7a31efb0-5dfa-4994-e0fa-7256730f61e0"
      },
      "source": [
        "print(np.linalg.norm(vector, ord=2)**2)"
      ],
      "execution_count": 86,
      "outputs": [
        {
          "output_type": "stream",
          "text": [
            "91.0\n"
          ],
          "name": "stdout"
        }
      ]
    },
    {
      "cell_type": "code",
      "metadata": {
        "id": "fVv_FN4TRtzX",
        "colab_type": "code",
        "colab": {
          "base_uri": "https://localhost:8080/",
          "height": 34
        },
        "outputId": "98da24f9-2a35-4f8c-b4a7-75ac12b1bbde"
      },
      "source": [
        "print(vector.T.dot(vector))"
      ],
      "execution_count": 87,
      "outputs": [
        {
          "output_type": "stream",
          "text": [
            "91\n"
          ],
          "name": "stdout"
        }
      ]
    },
    {
      "cell_type": "code",
      "metadata": {
        "id": "MJ0eQkL-Rxvn",
        "colab_type": "code",
        "colab": {
          "base_uri": "https://localhost:8080/",
          "height": 34
        },
        "outputId": "006236bf-35b1-4748-89db-71efab310ee3"
      },
      "source": [
        "vector = np.array([1,2,3,-100])\n",
        "print(np.linalg.norm(vector,ord=np.inf))"
      ],
      "execution_count": 88,
      "outputs": [
        {
          "output_type": "stream",
          "text": [
            "100.0\n"
          ],
          "name": "stdout"
        }
      ]
    },
    {
      "cell_type": "code",
      "metadata": {
        "id": "z0Hcw6WySCR9",
        "colab_type": "code",
        "colab": {
          "base_uri": "https://localhost:8080/",
          "height": 286
        },
        "outputId": "333f6f70-29fe-4159-b2dc-b22833692e7d"
      },
      "source": [
        "## Internal Product\n",
        "\n",
        "v1 = np.array([0,0,0,3])\n",
        "v2 = np.array([0,0,3,3])\n",
        "\n",
        "plt.xlim(-2,6)\n",
        "plt.ylim(-2,6)\n",
        "\n",
        "plt.quiver([v1[0], v2[0]],\n",
        "           [v1[1], v2[1]],\n",
        "           [v1[2], v2[2]],\n",
        "           [v1[3], v2[3]],\n",
        "           angles = \"xy\", scale_units = \"xy\", scale = 1,\n",
        "           color = sns.color_palette()\n",
        "           )"
      ],
      "execution_count": 90,
      "outputs": [
        {
          "output_type": "execute_result",
          "data": {
            "text/plain": [
              "<matplotlib.quiver.Quiver at 0x7fbb2d6e7c50>"
            ]
          },
          "metadata": {
            "tags": []
          },
          "execution_count": 90
        },
        {
          "output_type": "display_data",
          "data": {
            "image/png": "[encoded data removed]",
            "text/plain": [
              "<Figure size 432x288 with 1 Axes>"
            ]
          },
          "metadata": {
            "tags": [],
            "needs_background": "light"
          }
        }
      ]
    },
    {
      "cell_type": "code",
      "metadata": {
        "id": "R3tlFPQVT1cY",
        "colab_type": "code",
        "colab": {
          "base_uri": "https://localhost:8080/",
          "height": 34
        },
        "outputId": "5b53c459-7f48-4c08-c278-bb66bb1fbe04"
      },
      "source": [
        "v1 = np.array([0,3])\n",
        "v2 = np.array([3,3])\n",
        "\n",
        "print(v1.T.dot(v2))"
      ],
      "execution_count": 91,
      "outputs": [
        {
          "output_type": "stream",
          "text": [
            "9\n"
          ],
          "name": "stdout"
        }
      ]
    },
    {
      "cell_type": "code",
      "metadata": {
        "id": "WU6nTEm2UNiN",
        "colab_type": "code",
        "colab": {
          "base_uri": "https://localhost:8080/",
          "height": 34
        },
        "outputId": "fe188b66-d426-4447-f205-a11bbe457690"
      },
      "source": [
        "norm_v1 = np.linalg.norm(v1)\n",
        "norm_v2 = np.linalg.norm(v2)\n",
        "\n",
        "print(norm_v1 * norm_v2 * np.cos(np.deg2rad(45)))"
      ],
      "execution_count": 92,
      "outputs": [
        {
          "output_type": "stream",
          "text": [
            "9.0\n"
          ],
          "name": "stdout"
        }
      ]
    },
    {
      "cell_type": "markdown",
      "metadata": {
        "id": "Qm1bCUDcb_pe",
        "colab_type": "text"
      },
      "source": [
        "# Special Vectors and Matrixes"
      ]
    },
    {
      "cell_type": "code",
      "metadata": {
        "id": "Srm51_ngUiFN",
        "colab_type": "code",
        "colab": {
          "base_uri": "https://localhost:8080/",
          "height": 102
        },
        "outputId": "1ca1512e-c459-4050-f6c8-4b7b3c10455f"
      },
      "source": [
        "vector = np.array([1,2,3,4,5])\n",
        "\n",
        "matrix = np.diag(vector)\n",
        "\n",
        "matrix"
      ],
      "execution_count": 95,
      "outputs": [
        {
          "output_type": "execute_result",
          "data": {
            "text/plain": [
              "array([[1, 0, 0, 0, 0],\n",
              "       [0, 2, 0, 0, 0],\n",
              "       [0, 0, 3, 0, 0],\n",
              "       [0, 0, 0, 4, 0],\n",
              "       [0, 0, 0, 0, 5]])"
            ]
          },
          "metadata": {
            "tags": []
          },
          "execution_count": 95
        }
      ]
    },
    {
      "cell_type": "code",
      "metadata": {
        "id": "-zeEAY8NcZM5",
        "colab_type": "code",
        "colab": {
          "base_uri": "https://localhost:8080/",
          "height": 85
        },
        "outputId": "1ac43781-a380-4c1a-e149-9586b3424608"
      },
      "source": [
        "matrix[0:4,0:3]"
      ],
      "execution_count": 96,
      "outputs": [
        {
          "output_type": "execute_result",
          "data": {
            "text/plain": [
              "array([[1, 0, 0],\n",
              "       [0, 2, 0],\n",
              "       [0, 0, 3],\n",
              "       [0, 0, 0]])"
            ]
          },
          "metadata": {
            "tags": []
          },
          "execution_count": 96
        }
      ]
    },
    {
      "cell_type": "code",
      "metadata": {
        "id": "9Fqb0ui_cjVa",
        "colab_type": "code",
        "colab": {
          "base_uri": "https://localhost:8080/",
          "height": 68
        },
        "outputId": "e00a5a37-1074-4a7f-f1f2-39b03ca50caa"
      },
      "source": [
        "matrix[0:3,0:4]"
      ],
      "execution_count": 97,
      "outputs": [
        {
          "output_type": "execute_result",
          "data": {
            "text/plain": [
              "array([[1, 0, 0, 0],\n",
              "       [0, 2, 0, 0],\n",
              "       [0, 0, 3, 0]])"
            ]
          },
          "metadata": {
            "tags": []
          },
          "execution_count": 97
        }
      ]
    },
    {
      "cell_type": "code",
      "metadata": {
        "id": "2SKPn0xocrLZ",
        "colab_type": "code",
        "colab": {
          "base_uri": "https://localhost:8080/",
          "height": 85
        },
        "outputId": "23a46ef5-5981-4eb0-9958-084ecc05b1f2"
      },
      "source": [
        "A = np.diag([2,3,4,5])\n",
        "print(A)"
      ],
      "execution_count": 98,
      "outputs": [
        {
          "output_type": "stream",
          "text": [
            "[[2 0 0 0]\n",
            " [0 3 0 0]\n",
            " [0 0 4 0]\n",
            " [0 0 0 5]]\n"
          ],
          "name": "stdout"
        }
      ]
    },
    {
      "cell_type": "code",
      "metadata": {
        "id": "6hzXaUZac4od",
        "colab_type": "code",
        "colab": {
          "base_uri": "https://localhost:8080/",
          "height": 102
        },
        "outputId": "e1daa355-0c3a-4f07-8b04-96efa8e9f0e4"
      },
      "source": [
        "v1 = np.array([[1,1,1,1]])\n",
        "\n",
        "print(v1)\n",
        "\n",
        "print(A.dot(v1.T))"
      ],
      "execution_count": 99,
      "outputs": [
        {
          "output_type": "stream",
          "text": [
            "[[1 1 1 1]]\n",
            "[[2]\n",
            " [3]\n",
            " [4]\n",
            " [5]]\n"
          ],
          "name": "stdout"
        }
      ]
    },
    {
      "cell_type": "code",
      "metadata": {
        "id": "u1FosucvdAsU",
        "colab_type": "code",
        "colab": {
          "base_uri": "https://localhost:8080/",
          "height": 85
        },
        "outputId": "a79b4446-d40c-4823-eb17-d1beccb2aca3"
      },
      "source": [
        "A_inv = np.diag([1/2,1/3,1/4,1/5])\n",
        "A_inv"
      ],
      "execution_count": 100,
      "outputs": [
        {
          "output_type": "execute_result",
          "data": {
            "text/plain": [
              "array([[0.5       , 0.        , 0.        , 0.        ],\n",
              "       [0.        , 0.33333333, 0.        , 0.        ],\n",
              "       [0.        , 0.        , 0.25      , 0.        ],\n",
              "       [0.        , 0.        , 0.        , 0.2       ]])"
            ]
          },
          "metadata": {
            "tags": []
          },
          "execution_count": 100
        }
      ]
    },
    {
      "cell_type": "code",
      "metadata": {
        "id": "aaP5mjBJdmTQ",
        "colab_type": "code",
        "colab": {
          "base_uri": "https://localhost:8080/",
          "height": 85
        },
        "outputId": "6d8de92a-3ff2-4e90-cc07-70f30a68ecae"
      },
      "source": [
        "id = A.dot(A_inv)\n",
        "\n",
        "id"
      ],
      "execution_count": 101,
      "outputs": [
        {
          "output_type": "execute_result",
          "data": {
            "text/plain": [
              "array([[1., 0., 0., 0.],\n",
              "       [0., 1., 0., 0.],\n",
              "       [0., 0., 1., 0.],\n",
              "       [0., 0., 0., 1.]])"
            ]
          },
          "metadata": {
            "tags": []
          },
          "execution_count": 101
        }
      ]
    },
    {
      "cell_type": "code",
      "metadata": {
        "id": "u2N-1TxmdxQD",
        "colab_type": "code",
        "colab": {
          "base_uri": "https://localhost:8080/",
          "height": 85
        },
        "outputId": "67c498af-7785-4f7a-99a5-c96ef6322d2e"
      },
      "source": [
        "A_inv_calc = np.linalg.inv(A)\n",
        "A_inv_calc"
      ],
      "execution_count": 102,
      "outputs": [
        {
          "output_type": "execute_result",
          "data": {
            "text/plain": [
              "array([[0.5       , 0.        , 0.        , 0.        ],\n",
              "       [0.        , 0.33333333, 0.        , 0.        ],\n",
              "       [0.        , 0.        , 0.25      , 0.        ],\n",
              "       [0.        , 0.        , 0.        , 0.2       ]])"
            ]
          },
          "metadata": {
            "tags": []
          },
          "execution_count": 102
        }
      ]
    },
    {
      "cell_type": "code",
      "metadata": {
        "id": "QLYoCPFVeCWW",
        "colab_type": "code",
        "colab": {
          "base_uri": "https://localhost:8080/",
          "height": 85
        },
        "outputId": "c2475112-e7d8-4e58-de4b-3992a12d7bcd"
      },
      "source": [
        "A.T"
      ],
      "execution_count": 103,
      "outputs": [
        {
          "output_type": "execute_result",
          "data": {
            "text/plain": [
              "array([[2, 0, 0, 0],\n",
              "       [0, 3, 0, 0],\n",
              "       [0, 0, 4, 0],\n",
              "       [0, 0, 0, 5]])"
            ]
          },
          "metadata": {
            "tags": []
          },
          "execution_count": 103
        }
      ]
    },
    {
      "cell_type": "code",
      "metadata": {
        "id": "n_9HAhKJeROz",
        "colab_type": "code",
        "colab": {
          "base_uri": "https://localhost:8080/",
          "height": 85
        },
        "outputId": "bfa33873-9ad4-4313-885b-ce30079a93a7"
      },
      "source": [
        "A"
      ],
      "execution_count": 104,
      "outputs": [
        {
          "output_type": "execute_result",
          "data": {
            "text/plain": [
              "array([[2, 0, 0, 0],\n",
              "       [0, 3, 0, 0],\n",
              "       [0, 0, 4, 0],\n",
              "       [0, 0, 0, 5]])"
            ]
          },
          "metadata": {
            "tags": []
          },
          "execution_count": 104
        }
      ]
    },
    {
      "cell_type": "code",
      "metadata": {
        "id": "OESn8zIjeSBj",
        "colab_type": "code",
        "colab": {
          "base_uri": "https://localhost:8080/",
          "height": 68
        },
        "outputId": "65c22e9b-baef-4e87-d08d-fd1e13cacbf1"
      },
      "source": [
        "symetric = np.array([[1,2,3],\n",
        "                     [2,-1,7],\n",
        "                     [3,7,11]])\n",
        "symetric"
      ],
      "execution_count": 106,
      "outputs": [
        {
          "output_type": "execute_result",
          "data": {
            "text/plain": [
              "array([[ 1,  2,  3],\n",
              "       [ 2, -1,  7],\n",
              "       [ 3,  7, 11]])"
            ]
          },
          "metadata": {
            "tags": []
          },
          "execution_count": 106
        }
      ]
    },
    {
      "cell_type": "code",
      "metadata": {
        "id": "PYewuPiPegLh",
        "colab_type": "code",
        "colab": {
          "base_uri": "https://localhost:8080/",
          "height": 68
        },
        "outputId": "a2408c4b-8c1e-4b71-94cc-5ed8627e100a"
      },
      "source": [
        "symetric.T"
      ],
      "execution_count": 107,
      "outputs": [
        {
          "output_type": "execute_result",
          "data": {
            "text/plain": [
              "array([[ 1,  2,  3],\n",
              "       [ 2, -1,  7],\n",
              "       [ 3,  7, 11]])"
            ]
          },
          "metadata": {
            "tags": []
          },
          "execution_count": 107
        }
      ]
    },
    {
      "cell_type": "code",
      "metadata": {
        "id": "K6nwQBoaejn4",
        "colab_type": "code",
        "colab": {
          "base_uri": "https://localhost:8080/",
          "height": 269
        },
        "outputId": "14648753-e13d-4474-e847-81bd4ec49dc2"
      },
      "source": [
        "## Orthogonal Vectors\n",
        "\n",
        "x = np.array([0,0,2,2])\n",
        "y = np.array([0,0,2,-2])\n",
        "\n",
        "plt.quiver([x[0], y[0]],\n",
        "           [x[1], y[1]],\n",
        "           [x[2], y[2]],\n",
        "           [x[3], y[3]],\n",
        "           angles = \"xy\", scale_units = \"xy\", scale = 1,\n",
        "           )\n",
        "plt.xlim(-2,4)\n",
        "plt.ylim(-3,3)\n",
        "\n",
        "plt.show()"
      ],
      "execution_count": 108,
      "outputs": [
        {
          "output_type": "display_data",
          "data": {
            "image/png": "[encoded data removed]",
            "text/plain": [
              "<Figure size 432x288 with 1 Axes>"
            ]
          },
          "metadata": {
            "tags": [],
            "needs_background": "light"
          }
        }
      ]
    },
    {
      "cell_type": "code",
      "metadata": {
        "id": "3MTnIu02gptr",
        "colab_type": "code",
        "colab": {
          "base_uri": "https://localhost:8080/",
          "height": 51
        },
        "outputId": "ea439e99-eb21-4bc2-b96e-650a561e0162"
      },
      "source": [
        "v1 = np.array([[2,2]])\n",
        "v2 = np.array([[2,-2]])\n",
        "\n",
        "print(v1)\n",
        "print(v2)"
      ],
      "execution_count": 109,
      "outputs": [
        {
          "output_type": "stream",
          "text": [
            "[[2 2]]\n",
            "[[ 2 -2]]\n"
          ],
          "name": "stdout"
        }
      ]
    },
    {
      "cell_type": "code",
      "metadata": {
        "id": "A92gmlBag3L6",
        "colab_type": "code",
        "colab": {
          "base_uri": "https://localhost:8080/",
          "height": 34
        },
        "outputId": "50d4e141-5709-4557-9f29-3f9743525e8a"
      },
      "source": [
        "v1.dot(v2.T)"
      ],
      "execution_count": 110,
      "outputs": [
        {
          "output_type": "execute_result",
          "data": {
            "text/plain": [
              "array([[0]])"
            ]
          },
          "metadata": {
            "tags": []
          },
          "execution_count": 110
        }
      ]
    },
    {
      "cell_type": "code",
      "metadata": {
        "id": "waGChtkMg97a",
        "colab_type": "code",
        "colab": {
          "base_uri": "https://localhost:8080/",
          "height": 51
        },
        "outputId": "4255bd06-6928-4628-ca63-f2e2c6be8c03"
      },
      "source": [
        "print(np.linalg.norm(v1))\n",
        "print(np.linalg.norm(v2))"
      ],
      "execution_count": 111,
      "outputs": [
        {
          "output_type": "stream",
          "text": [
            "2.8284271247461903\n",
            "2.8284271247461903\n"
          ],
          "name": "stdout"
        }
      ]
    },
    {
      "cell_type": "code",
      "metadata": {
        "id": "U00SOzr7hEJ-",
        "colab_type": "code",
        "colab": {}
      },
      "source": [
        "v1 = np.array([[1,0]])\n",
        "v2 = np.array([[0,-1]])"
      ],
      "execution_count": 112,
      "outputs": []
    },
    {
      "cell_type": "code",
      "metadata": {
        "id": "Dfm7B4pWhLfQ",
        "colab_type": "code",
        "colab": {
          "base_uri": "https://localhost:8080/",
          "height": 34
        },
        "outputId": "7fe06201-3217-4443-fc64-dd677ab0bf81"
      },
      "source": [
        "v1.dot(v2.T)"
      ],
      "execution_count": 113,
      "outputs": [
        {
          "output_type": "execute_result",
          "data": {
            "text/plain": [
              "array([[0]])"
            ]
          },
          "metadata": {
            "tags": []
          },
          "execution_count": 113
        }
      ]
    },
    {
      "cell_type": "code",
      "metadata": {
        "id": "b3FSjmivhOG2",
        "colab_type": "code",
        "colab": {
          "base_uri": "https://localhost:8080/",
          "height": 51
        },
        "outputId": "8d139cc2-4b7e-4381-f857-8be5437cb564"
      },
      "source": [
        "print(np.linalg.norm(v1))\n",
        "print(np.linalg.norm(v2))"
      ],
      "execution_count": 114,
      "outputs": [
        {
          "output_type": "stream",
          "text": [
            "1.0\n",
            "1.0\n"
          ],
          "name": "stdout"
        }
      ]
    },
    {
      "cell_type": "code",
      "metadata": {
        "id": "j5TYFXK5iBiN",
        "colab_type": "code",
        "colab": {
          "base_uri": "https://localhost:8080/",
          "height": 68
        },
        "outputId": "4461ba1b-8f8a-4086-a5bd-420baa6cc437"
      },
      "source": [
        "## Orthogonal Matrixes Properties\n",
        "\n",
        "matrix = np.array([[1,0,0],\n",
        "                   [0,1,0],\n",
        "                   [0,0,1]\n",
        "                   ])\n",
        "matrix"
      ],
      "execution_count": 115,
      "outputs": [
        {
          "output_type": "execute_result",
          "data": {
            "text/plain": [
              "array([[1, 0, 0],\n",
              "       [0, 1, 0],\n",
              "       [0, 0, 1]])"
            ]
          },
          "metadata": {
            "tags": []
          },
          "execution_count": 115
        }
      ]
    },
    {
      "cell_type": "code",
      "metadata": {
        "id": "ST3o7XRaiQdr",
        "colab_type": "code",
        "colab": {
          "base_uri": "https://localhost:8080/",
          "height": 34
        },
        "outputId": "a1697d1b-ac73-4447-89c9-ad1525145db9"
      },
      "source": [
        "print(matrix[:,0].dot(matrix[:,1]))"
      ],
      "execution_count": 116,
      "outputs": [
        {
          "output_type": "stream",
          "text": [
            "0\n"
          ],
          "name": "stdout"
        }
      ]
    },
    {
      "cell_type": "code",
      "metadata": {
        "id": "YComAP6SiZq7",
        "colab_type": "code",
        "colab": {
          "base_uri": "https://localhost:8080/",
          "height": 34
        },
        "outputId": "e0bab53d-0782-454a-efec-a39b35111317"
      },
      "source": [
        "print(matrix[:,0].dot(matrix[:,2]))"
      ],
      "execution_count": 117,
      "outputs": [
        {
          "output_type": "stream",
          "text": [
            "0\n"
          ],
          "name": "stdout"
        }
      ]
    },
    {
      "cell_type": "code",
      "metadata": {
        "id": "4w2FhKr4ifFQ",
        "colab_type": "code",
        "colab": {
          "base_uri": "https://localhost:8080/",
          "height": 34
        },
        "outputId": "27f679a4-343b-4ad4-a5d9-5c36522093a4"
      },
      "source": [
        "print(matrix[:,1].dot(matrix[:,2]))"
      ],
      "execution_count": 118,
      "outputs": [
        {
          "output_type": "stream",
          "text": [
            "0\n"
          ],
          "name": "stdout"
        }
      ]
    },
    {
      "cell_type": "code",
      "metadata": {
        "id": "2BjEdmoyiiGz",
        "colab_type": "code",
        "colab": {
          "base_uri": "https://localhost:8080/",
          "height": 68
        },
        "outputId": "196351f4-436d-449c-ece6-03d8bdf4f574"
      },
      "source": [
        "print(np.linalg.norm(matrix[:,0]))\n",
        "print(np.linalg.norm(matrix[:,1]))\n",
        "print(np.linalg.norm(matrix[:,2]))"
      ],
      "execution_count": 119,
      "outputs": [
        {
          "output_type": "stream",
          "text": [
            "1.0\n",
            "1.0\n",
            "1.0\n"
          ],
          "name": "stdout"
        }
      ]
    },
    {
      "cell_type": "code",
      "metadata": {
        "id": "RqkYWl8kitme",
        "colab_type": "code",
        "colab": {
          "base_uri": "https://localhost:8080/",
          "height": 68
        },
        "outputId": "b58ab238-458c-4bd0-86b6-2fe2231eac6c"
      },
      "source": [
        "print(matrix[0,:].dot(matrix[1,:]))\n",
        "print(matrix[0,:].dot(matrix[2,:]))\n",
        "print(matrix[1,:].dot(matrix[2,:]))"
      ],
      "execution_count": 121,
      "outputs": [
        {
          "output_type": "stream",
          "text": [
            "0\n",
            "0\n",
            "0\n"
          ],
          "name": "stdout"
        }
      ]
    },
    {
      "cell_type": "code",
      "metadata": {
        "id": "IbSJBEefjJsz",
        "colab_type": "code",
        "colab": {
          "base_uri": "https://localhost:8080/",
          "height": 68
        },
        "outputId": "5c0e4fd9-90af-42b8-cd51-1750585487b3"
      },
      "source": [
        "print(np.linalg.norm(matrix[0,:]))\n",
        "print(np.linalg.norm(matrix[1,:]))\n",
        "print(np.linalg.norm(matrix[2,:]))"
      ],
      "execution_count": 123,
      "outputs": [
        {
          "output_type": "stream",
          "text": [
            "1.0\n",
            "1.0\n",
            "1.0\n"
          ],
          "name": "stdout"
        }
      ]
    },
    {
      "cell_type": "code",
      "metadata": {
        "id": "dVN3Myb3jXX0",
        "colab_type": "code",
        "colab": {
          "base_uri": "https://localhost:8080/",
          "height": 51
        },
        "outputId": "e0f6239d-1202-4553-df20-d1d14701c2ea"
      },
      "source": [
        "A = np.array([[np.cos(100), -np.sin(100)],\n",
        "              [np.sin(100), np.cos(100)]])\n",
        "print(A)"
      ],
      "execution_count": 3,
      "outputs": [
        {
          "output_type": "stream",
          "text": [
            "[[ 0.86231887  0.50636564]\n",
            " [-0.50636564  0.86231887]]\n"
          ],
          "name": "stdout"
        }
      ]
    },
    {
      "cell_type": "code",
      "metadata": {
        "id": "ifp54YMJkUKj",
        "colab_type": "code",
        "colab": {
          "base_uri": "https://localhost:8080/",
          "height": 85
        },
        "outputId": "fba8b47d-16c1-4ecb-e33f-8dca32a0b232"
      },
      "source": [
        "print(np.linalg.norm(A[0,:]))\n",
        "print(np.linalg.norm(A[1,:]))\n",
        "print(np.linalg.norm(A[:,0]))\n",
        "print(np.linalg.norm(A[:,1]))"
      ],
      "execution_count": 125,
      "outputs": [
        {
          "output_type": "stream",
          "text": [
            "0.9999999999999999\n",
            "0.9999999999999999\n",
            "0.9999999999999999\n",
            "0.9999999999999999\n"
          ],
          "name": "stdout"
        }
      ]
    },
    {
      "cell_type": "code",
      "metadata": {
        "id": "Nar30tuIkfJe",
        "colab_type": "code",
        "colab": {
          "base_uri": "https://localhost:8080/",
          "height": 51
        },
        "outputId": "a110fb00-fc68-4191-8f7b-41aebdfedc86"
      },
      "source": [
        "print(A[0,:].dot(A[1,:]))\n",
        "print(A[:,0].dot(A[:,1]))"
      ],
      "execution_count": 126,
      "outputs": [
        {
          "output_type": "stream",
          "text": [
            "0.0\n",
            "0.0\n"
          ],
          "name": "stdout"
        }
      ]
    },
    {
      "cell_type": "code",
      "metadata": {
        "id": "tcjUj1lXksrj",
        "colab_type": "code",
        "colab": {
          "base_uri": "https://localhost:8080/",
          "height": 85
        },
        "outputId": "bf17a9b8-4d75-4278-e43f-fbd8fb691fe8"
      },
      "source": [
        "A_t = A.T\n",
        "print(A_t.dot(A))\n",
        "print(A.dot(A_t))"
      ],
      "execution_count": 127,
      "outputs": [
        {
          "output_type": "stream",
          "text": [
            "[[ 1.00000000e+00 -7.93771519e-18]\n",
            " [-7.93771519e-18  1.00000000e+00]]\n",
            "[[1.00000000e+00 7.93771519e-18]\n",
            " [7.93771519e-18 1.00000000e+00]]\n"
          ],
          "name": "stdout"
        }
      ]
    },
    {
      "cell_type": "code",
      "metadata": {
        "id": "RhU6Xvcbk0bf",
        "colab_type": "code",
        "colab": {
          "base_uri": "https://localhost:8080/",
          "height": 51
        },
        "outputId": "2b9a16bb-7a38-4708-802d-75f0b7545273"
      },
      "source": [
        "A_inv = np.linalg.inv(A)\n",
        "print(A_inv)"
      ],
      "execution_count": 128,
      "outputs": [
        {
          "output_type": "stream",
          "text": [
            "[[ 0.86231887 -0.50636564]\n",
            " [ 0.50636564  0.86231887]]\n"
          ],
          "name": "stdout"
        }
      ]
    },
    {
      "cell_type": "code",
      "metadata": {
        "id": "RuT39JhAlE2M",
        "colab_type": "code",
        "colab": {
          "base_uri": "https://localhost:8080/",
          "height": 51
        },
        "outputId": "807c6dfc-cac5-4a52-d1ee-c8ec6c466314"
      },
      "source": [
        "A_t"
      ],
      "execution_count": 129,
      "outputs": [
        {
          "output_type": "execute_result",
          "data": {
            "text/plain": [
              "array([[ 0.86231887, -0.50636564],\n",
              "       [ 0.50636564,  0.86231887]])"
            ]
          },
          "metadata": {
            "tags": []
          },
          "execution_count": 129
        }
      ]
    },
    {
      "cell_type": "code",
      "metadata": {
        "id": "kVjfub7KlGGy",
        "colab_type": "code",
        "colab": {
          "base_uri": "https://localhost:8080/",
          "height": 51
        },
        "outputId": "6da36c10-4a1c-4d4f-9bd7-091d643a3a32"
      },
      "source": [
        "print(1/A_t.dot(A))"
      ],
      "execution_count": 130,
      "outputs": [
        {
          "output_type": "stream",
          "text": [
            "[[ 1.00000000e+00 -1.25980837e+17]\n",
            " [-1.25980837e+17  1.00000000e+00]]\n"
          ],
          "name": "stdout"
        }
      ]
    },
    {
      "cell_type": "markdown",
      "metadata": {
        "id": "xzOb2YIIlmmP",
        "colab_type": "text"
      },
      "source": [
        "# Determinant and Tracing"
      ]
    },
    {
      "cell_type": "code",
      "metadata": {
        "id": "5r1iFWxklM2A",
        "colab_type": "code",
        "colab": {
          "base_uri": "https://localhost:8080/",
          "height": 68
        },
        "outputId": "4fb8056e-3c69-4b96-9aba-85b5079d426a"
      },
      "source": [
        "matrix = np.array([[1,2,3],\n",
        "                   [4,5,6],\n",
        "                   [7,8,9]\n",
        "                   ])\n",
        "print(matrix)"
      ],
      "execution_count": 4,
      "outputs": [
        {
          "output_type": "stream",
          "text": [
            "[[1 2 3]\n",
            " [4 5 6]\n",
            " [7 8 9]]\n"
          ],
          "name": "stdout"
        }
      ]
    },
    {
      "cell_type": "code",
      "metadata": {
        "id": "5kJ5wV9izkNu",
        "colab_type": "code",
        "colab": {
          "base_uri": "https://localhost:8080/",
          "height": 34
        },
        "outputId": "019acf1f-e6a9-44f7-db9c-c7c043bada03"
      },
      "source": [
        "trace = np.trace(matrix)\n",
        "print(trace)"
      ],
      "execution_count": 5,
      "outputs": [
        {
          "output_type": "stream",
          "text": [
            "15\n"
          ],
          "name": "stdout"
        }
      ]
    },
    {
      "cell_type": "code",
      "metadata": {
        "id": "bpkBwj5Xzvd1",
        "colab_type": "code",
        "colab": {
          "base_uri": "https://localhost:8080/",
          "height": 265
        },
        "outputId": "f732b0cb-f633-474a-c334-27521ebce2e4"
      },
      "source": [
        "v1 = np.array([0,1])\n",
        "v2 = np.array([1,0])\n",
        "\n",
        "graficarVectores([v1,v2], [\"blue\",\"red\"])\n",
        "\n",
        "plt.xlim(-0.15, 1.5)\n",
        "plt.ylim(-0.15, 1.5)\n",
        "\n",
        "plt.show()"
      ],
      "execution_count": 11,
      "outputs": [
        {
          "output_type": "display_data",
          "data": {
            "image/png": "[encoded data removed]",
            "text/plain": [
              "<Figure size 432x288 with 1 Axes>"
            ]
          },
          "metadata": {
            "tags": [],
            "needs_background": "light"
          }
        }
      ]
    },
    {
      "cell_type": "code",
      "metadata": {
        "id": "N_M6Xrpm049h",
        "colab_type": "code",
        "colab": {
          "base_uri": "https://localhost:8080/",
          "height": 51
        },
        "outputId": "45bfff3c-35d7-4363-d3d1-35cff0a1746b"
      },
      "source": [
        "A = np.array([[2,0],[0,2]])\n",
        "print(A)"
      ],
      "execution_count": 12,
      "outputs": [
        {
          "output_type": "stream",
          "text": [
            "[[2 0]\n",
            " [0 2]]\n"
          ],
          "name": "stdout"
        }
      ]
    },
    {
      "cell_type": "code",
      "metadata": {
        "id": "oa201AcZ1EIF",
        "colab_type": "code",
        "colab": {
          "base_uri": "https://localhost:8080/",
          "height": 269
        },
        "outputId": "2cfc687d-e6fa-4bf1-bdde-7669d3e79329"
      },
      "source": [
        "v1_transformed = A.dot(v1)\n",
        "v2_transformed = A.dot(v2)\n",
        "\n",
        "graficarVectores([v1_transformed, v2_transformed], [\"orange\", \"green\"])\n",
        "\n",
        "plt.xlim(-0.25, 3)\n",
        "plt.ylim(-0.25, 3)\n",
        "\n",
        "plt.show()"
      ],
      "execution_count": 15,
      "outputs": [
        {
          "output_type": "display_data",
          "data": {
            "image/png": "[encoded data removed]",
            "text/plain": [
              "<Figure size 432x288 with 1 Axes>"
            ]
          },
          "metadata": {
            "tags": [],
            "needs_background": "light"
          }
        }
      ]
    },
    {
      "cell_type": "code",
      "metadata": {
        "id": "Ad641L8f1bNc",
        "colab_type": "code",
        "colab": {
          "base_uri": "https://localhost:8080/",
          "height": 34
        },
        "outputId": "f5e6ae89-937a-47f0-d6cf-4bdf7f356deb"
      },
      "source": [
        "det_A = np.linalg.det(A)\n",
        "\n",
        "print(det_A)"
      ],
      "execution_count": 16,
      "outputs": [
        {
          "output_type": "stream",
          "text": [
            "4.0\n"
          ],
          "name": "stdout"
        }
      ]
    },
    {
      "cell_type": "code",
      "metadata": {
        "id": "6FT6FrGZ2BoM",
        "colab_type": "code",
        "colab": {
          "base_uri": "https://localhost:8080/",
          "height": 34
        },
        "outputId": "7f750763-8d85-40ae-83c7-833d8343287d"
      },
      "source": [
        "transformed_area = abs((v1_transformed[0]-v2_transformed[0]))*abs((v1_transformed[1]-v2_transformed[1]))\n",
        "print(transformed_area)"
      ],
      "execution_count": 18,
      "outputs": [
        {
          "output_type": "stream",
          "text": [
            "4\n"
          ],
          "name": "stdout"
        }
      ]
    },
    {
      "cell_type": "code",
      "metadata": {
        "id": "tU0O3Dcc3dlg",
        "colab_type": "code",
        "colab": {
          "base_uri": "https://localhost:8080/",
          "height": 51
        },
        "outputId": "1c3e1d17-ef8f-4528-bf03-ddbba85ad5b4"
      },
      "source": [
        "B = A * [-1,1]\n",
        "print(B)"
      ],
      "execution_count": 19,
      "outputs": [
        {
          "output_type": "stream",
          "text": [
            "[[-2  0]\n",
            " [ 0  2]]\n"
          ],
          "name": "stdout"
        }
      ]
    },
    {
      "cell_type": "code",
      "metadata": {
        "id": "c3x1QgGI3nPS",
        "colab_type": "code",
        "colab": {
          "base_uri": "https://localhost:8080/",
          "height": 34
        },
        "outputId": "2b55e562-1508-46ae-b61c-bbd5c84e32d5"
      },
      "source": [
        "det_B = np.linalg.det(B)\n",
        "print(det_B)"
      ],
      "execution_count": 20,
      "outputs": [
        {
          "output_type": "stream",
          "text": [
            "-4.0\n"
          ],
          "name": "stdout"
        }
      ]
    },
    {
      "cell_type": "code",
      "metadata": {
        "id": "GCvyVwsU3vyc",
        "colab_type": "code",
        "colab": {
          "base_uri": "https://localhost:8080/",
          "height": 269
        },
        "outputId": "12eef2db-f65b-4c49-99c2-d56051bb0d7b"
      },
      "source": [
        "v1 = np.array([0,1])\n",
        "v2 = np.array([1,0])\n",
        "\n",
        "v1_transformed = B.dot(v1)\n",
        "v2_transformed = B.dot(v2)\n",
        "\n",
        "graficarVectores([v1_transformed, v2_transformed, v1, v2], [\"blue\", \"red\", \"orange\", \"green\"])\n",
        "\n",
        "plt.xlim(-3, 1.5)\n",
        "plt.ylim(-0.5, 2.5)\n",
        "\n",
        "plt.show()"
      ],
      "execution_count": 22,
      "outputs": [
        {
          "output_type": "display_data",
          "data": {
            "image/png": "[encoded data removed]",
            "text/plain": [
              "<Figure size 432x288 with 1 Axes>"
            ]
          },
          "metadata": {
            "tags": [],
            "needs_background": "light"
          }
        }
      ]
    },
    {
      "cell_type": "code",
      "metadata": {
        "id": "iehC6q9F4Qim",
        "colab_type": "code",
        "colab": {}
      },
      "source": [
        ""
      ],
      "execution_count": null,
      "outputs": []
    }
  ]
}
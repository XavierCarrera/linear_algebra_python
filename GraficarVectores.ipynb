{
  "nbformat": 4,
  "nbformat_minor": 0,
  "metadata": {
    "colab": {
      "name": "GraficarVectores.ipynb",
      "provenance": [],
      "authorship_tag": "ABX9TyN47rxAYncUCkkyL64QIEfk",
      "include_colab_link": true
    },
    "kernelspec": {
      "name": "python3",
      "display_name": "Python 3"
    }
  },
  "cells": [
    {
      "cell_type": "markdown",
      "metadata": {
        "id": "view-in-github",
        "colab_type": "text"
      },
      "source": [
        "<a href=\"https://colab.research.google.com/github/XavierCarrera/linear_algebra_python/blob/master/GraficarVectores.ipynb\" target=\"_parent\"><img src=\"https://colab.research.google.com/assets/colab-badge.svg\" alt=\"Open In Colab\"/></a>"
      ]
    },
    {
      "cell_type": "code",
      "metadata": {
        "id": "ZtzckIKuMZ6N",
        "colab_type": "code",
        "colab": {}
      },
      "source": [
        "def graficarVectores(vecs, cols, alpha = 1):\n",
        "\n",
        "  plt.figure()\n",
        "  plt.axvline(x = 0, color = \"grey\", zorder = 0)\n",
        "  plt.axhline(y = 0, color = \"grey\", zorder = 0)\n",
        "\n",
        "  for i in range(len(vecs)):\n",
        "    x = np.concatenate([[0,0], vecs[i]])\n",
        "    plt.quiver([x[0]],\n",
        "               [x[1]],\n",
        "               [x[2]],\n",
        "               [x[3]],\n",
        "               angles=\"xy\", scale_units=\"xy\", scale=1,\n",
        "               color=cols[i],\n",
        "               alpha = alpha)"
      ],
      "execution_count": null,
      "outputs": []
    }
  ]
}